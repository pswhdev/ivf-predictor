{
 "cells": [
  {
   "cell_type": "markdown",
   "metadata": {},
   "source": [
    "# Classification"
   ]
  },
  {
   "cell_type": "markdown",
   "metadata": {},
   "source": [
    "## Objectives\n",
    "\n",
    "*   Fit and evaluate a classification model to predict if a treatment will be successful or not.\n",
    "\n",
    "\n",
    "## Inputs\n",
    "\n",
    "* outputs/datasets/collection/FertilityTreatmentData.csv.gz\n",
    "* Instructions from the notebooks 02 and 04 on which variables to use for data cleaning and feature engineering.\n",
    "\n",
    "## Outputs\n",
    "\n",
    "* Train set (features and target)\n",
    "* Test set (features and target)\n",
    "* Data cleaning and Feature Engineering pipeline\n",
    "* Modeling pipeline\n",
    "* Feature importance plot\n"
   ]
  },
  {
   "cell_type": "markdown",
   "metadata": {},
   "source": [
    "---"
   ]
  },
  {
   "cell_type": "markdown",
   "metadata": {},
   "source": [
    "## Change working directory"
   ]
  },
  {
   "cell_type": "markdown",
   "metadata": {},
   "source": [
    "Change the working directory from its current folder to its parent folder\n",
    "* Access the current directory with os.getcwd()"
   ]
  },
  {
   "cell_type": "code",
   "execution_count": 1,
   "metadata": {},
   "outputs": [
    {
     "data": {
      "text/plain": [
       "'/Users/patriciahalley/Documents/Code_institute/git/ivf-predictor/jupyter_notebooks'"
      ]
     },
     "execution_count": 1,
     "metadata": {},
     "output_type": "execute_result"
    }
   ],
   "source": [
    "import os\n",
    "current_dir = os.getcwd()\n",
    "current_dir"
   ]
  },
  {
   "cell_type": "markdown",
   "metadata": {},
   "source": [
    "To make the parent of the current directory the new current directory:\n",
    "* os.path.dirname() gets the parent directory\n",
    "* os.chir() defines the new current directory"
   ]
  },
  {
   "cell_type": "code",
   "execution_count": 2,
   "metadata": {},
   "outputs": [
    {
     "name": "stdout",
     "output_type": "stream",
     "text": [
      "A new current directory has been set\n"
     ]
    }
   ],
   "source": [
    "os.chdir(os.path.dirname(current_dir))\n",
    "print(\"A new current directory has been set\")"
   ]
  },
  {
   "cell_type": "markdown",
   "metadata": {},
   "source": [
    "Confirm the new current directory"
   ]
  },
  {
   "cell_type": "code",
   "execution_count": 3,
   "metadata": {},
   "outputs": [
    {
     "data": {
      "text/plain": [
       "'/Users/patriciahalley/Documents/Code_institute/git/ivf-predictor'"
      ]
     },
     "execution_count": 3,
     "metadata": {},
     "output_type": "execute_result"
    }
   ],
   "source": [
    "current_dir = os.getcwd()\n",
    "current_dir"
   ]
  },
  {
   "cell_type": "markdown",
   "metadata": {},
   "source": [
    "---"
   ]
  },
  {
   "cell_type": "markdown",
   "metadata": {},
   "source": [
    "## Load Data"
   ]
  },
  {
   "cell_type": "code",
   "execution_count": 4,
   "metadata": {},
   "outputs": [
    {
     "name": "stdout",
     "output_type": "stream",
     "text": [
      "(135695, 29)\n"
     ]
    },
    {
     "data": {
      "text/html": [
       "<div>\n",
       "<style scoped>\n",
       "    .dataframe tbody tr th:only-of-type {\n",
       "        vertical-align: middle;\n",
       "    }\n",
       "\n",
       "    .dataframe tbody tr th {\n",
       "        vertical-align: top;\n",
       "    }\n",
       "\n",
       "    .dataframe thead th {\n",
       "        text-align: right;\n",
       "    }\n",
       "</style>\n",
       "<table border=\"1\" class=\"dataframe\">\n",
       "  <thead>\n",
       "    <tr style=\"text-align: right;\">\n",
       "      <th></th>\n",
       "      <th>Patient age at treatment</th>\n",
       "      <th>Total number of previous IVF cycles</th>\n",
       "      <th>Total number of previous pregnancies - IVF and DI</th>\n",
       "      <th>Total number of previous live births - IVF or DI</th>\n",
       "      <th>Causes of infertility - tubal disease</th>\n",
       "      <th>Causes of infertility - ovulatory disorder</th>\n",
       "      <th>Causes of infertility - male factor</th>\n",
       "      <th>Causes of infertility - patient unexplained</th>\n",
       "      <th>Causes of infertility - endometriosis</th>\n",
       "      <th>Stimulation used</th>\n",
       "      <th>...</th>\n",
       "      <th>Frozen cycle</th>\n",
       "      <th>Fresh eggs collected</th>\n",
       "      <th>Total eggs mixed</th>\n",
       "      <th>Total embryos created</th>\n",
       "      <th>Embryos transferred</th>\n",
       "      <th>Total embryos thawed</th>\n",
       "      <th>Embryos transferred from eggs micro-injected</th>\n",
       "      <th>Date of embryo transfer</th>\n",
       "      <th>Live birth occurrence</th>\n",
       "      <th>Patient ethnicity</th>\n",
       "    </tr>\n",
       "  </thead>\n",
       "  <tbody>\n",
       "    <tr>\n",
       "      <th>0</th>\n",
       "      <td>18-34</td>\n",
       "      <td>0</td>\n",
       "      <td>0</td>\n",
       "      <td>0</td>\n",
       "      <td>0</td>\n",
       "      <td>0</td>\n",
       "      <td>1</td>\n",
       "      <td>0</td>\n",
       "      <td>0</td>\n",
       "      <td>1</td>\n",
       "      <td>...</td>\n",
       "      <td>0</td>\n",
       "      <td>1-5</td>\n",
       "      <td>1-5</td>\n",
       "      <td>1-5</td>\n",
       "      <td>1e</td>\n",
       "      <td>0 - fresh cycle</td>\n",
       "      <td>1</td>\n",
       "      <td>5 - fresh</td>\n",
       "      <td>0</td>\n",
       "      <td>White</td>\n",
       "    </tr>\n",
       "    <tr>\n",
       "      <th>1</th>\n",
       "      <td>18-34</td>\n",
       "      <td>1</td>\n",
       "      <td>0</td>\n",
       "      <td>0</td>\n",
       "      <td>0</td>\n",
       "      <td>0</td>\n",
       "      <td>1</td>\n",
       "      <td>0</td>\n",
       "      <td>0</td>\n",
       "      <td>0</td>\n",
       "      <td>...</td>\n",
       "      <td>1</td>\n",
       "      <td>0 - frozen cycle</td>\n",
       "      <td>0 - frozen cycle</td>\n",
       "      <td>0 - frozen cycle</td>\n",
       "      <td>1</td>\n",
       "      <td>1-5</td>\n",
       "      <td>0</td>\n",
       "      <td>0 - frozen</td>\n",
       "      <td>0</td>\n",
       "      <td>White</td>\n",
       "    </tr>\n",
       "    <tr>\n",
       "      <th>2</th>\n",
       "      <td>40-42</td>\n",
       "      <td>0</td>\n",
       "      <td>0</td>\n",
       "      <td>0</td>\n",
       "      <td>0</td>\n",
       "      <td>0</td>\n",
       "      <td>0</td>\n",
       "      <td>1</td>\n",
       "      <td>0</td>\n",
       "      <td>1</td>\n",
       "      <td>...</td>\n",
       "      <td>0</td>\n",
       "      <td>1-5</td>\n",
       "      <td>1-5</td>\n",
       "      <td>1-5</td>\n",
       "      <td>1</td>\n",
       "      <td>0 - fresh cycle</td>\n",
       "      <td>0</td>\n",
       "      <td>3 - fresh</td>\n",
       "      <td>0</td>\n",
       "      <td>White</td>\n",
       "    </tr>\n",
       "  </tbody>\n",
       "</table>\n",
       "<p>3 rows × 29 columns</p>\n",
       "</div>"
      ],
      "text/plain": [
       "  Patient age at treatment Total number of previous IVF cycles  \\\n",
       "0                    18-34                                   0   \n",
       "1                    18-34                                   1   \n",
       "2                    40-42                                   0   \n",
       "\n",
       "   Total number of previous pregnancies - IVF and DI  \\\n",
       "0                                                  0   \n",
       "1                                                  0   \n",
       "2                                                  0   \n",
       "\n",
       "   Total number of previous live births - IVF or DI  \\\n",
       "0                                                 0   \n",
       "1                                                 0   \n",
       "2                                                 0   \n",
       "\n",
       "   Causes of infertility - tubal disease  \\\n",
       "0                                      0   \n",
       "1                                      0   \n",
       "2                                      0   \n",
       "\n",
       "   Causes of infertility - ovulatory disorder  \\\n",
       "0                                           0   \n",
       "1                                           0   \n",
       "2                                           0   \n",
       "\n",
       "   Causes of infertility - male factor  \\\n",
       "0                                    1   \n",
       "1                                    1   \n",
       "2                                    0   \n",
       "\n",
       "   Causes of infertility - patient unexplained  \\\n",
       "0                                            0   \n",
       "1                                            0   \n",
       "2                                            1   \n",
       "\n",
       "   Causes of infertility - endometriosis  Stimulation used  ... Frozen cycle  \\\n",
       "0                                      0                 1  ...            0   \n",
       "1                                      0                 0  ...            1   \n",
       "2                                      0                 1  ...            0   \n",
       "\n",
       "  Fresh eggs collected  Total eggs mixed  Total embryos created  \\\n",
       "0                  1-5               1-5                    1-5   \n",
       "1     0 - frozen cycle  0 - frozen cycle       0 - frozen cycle   \n",
       "2                  1-5               1-5                    1-5   \n",
       "\n",
       "   Embryos transferred  Total embryos thawed  \\\n",
       "0                   1e       0 - fresh cycle   \n",
       "1                    1                   1-5   \n",
       "2                    1       0 - fresh cycle   \n",
       "\n",
       "  Embryos transferred from eggs micro-injected Date of embryo transfer  \\\n",
       "0                                            1               5 - fresh   \n",
       "1                                            0              0 - frozen   \n",
       "2                                            0               3 - fresh   \n",
       "\n",
       "   Live birth occurrence  Patient ethnicity  \n",
       "0                      0              White  \n",
       "1                      0              White  \n",
       "2                      0              White  \n",
       "\n",
       "[3 rows x 29 columns]"
      ]
     },
     "execution_count": 4,
     "metadata": {},
     "output_type": "execute_result"
    }
   ],
   "source": [
    "import numpy as np\n",
    "import pandas as pd\n",
    "\n",
    "# Open dataset\n",
    "df = pd.read_csv(\"outputs/datasets/cleaned/FertilityTreatmentDataCleaned.csv.gz\")\n",
    "        \n",
    "print(df.shape)\n",
    "df.head(3)"
   ]
  },
  {
   "cell_type": "markdown",
   "metadata": {},
   "source": [
    "---"
   ]
  },
  {
   "cell_type": "markdown",
   "metadata": {},
   "source": [
    "## ML Pipeline with all data"
   ]
  },
  {
   "cell_type": "markdown",
   "metadata": {},
   "source": [
    "#### ML pipeline for Data Cleaning and Feature Engineering"
   ]
  },
  {
   "cell_type": "markdown",
   "metadata": {},
   "source": [
    "#### Pipeline"
   ]
  },
  {
   "cell_type": "code",
   "execution_count": 6,
   "metadata": {},
   "outputs": [
    {
     "data": {
      "text/html": [
       "<style>#sk-container-id-1 {\n",
       "  /* Definition of color scheme common for light and dark mode */\n",
       "  --sklearn-color-text: black;\n",
       "  --sklearn-color-line: gray;\n",
       "  /* Definition of color scheme for unfitted estimators */\n",
       "  --sklearn-color-unfitted-level-0: #fff5e6;\n",
       "  --sklearn-color-unfitted-level-1: #f6e4d2;\n",
       "  --sklearn-color-unfitted-level-2: #ffe0b3;\n",
       "  --sklearn-color-unfitted-level-3: chocolate;\n",
       "  /* Definition of color scheme for fitted estimators */\n",
       "  --sklearn-color-fitted-level-0: #f0f8ff;\n",
       "  --sklearn-color-fitted-level-1: #d4ebff;\n",
       "  --sklearn-color-fitted-level-2: #b3dbfd;\n",
       "  --sklearn-color-fitted-level-3: cornflowerblue;\n",
       "\n",
       "  /* Specific color for light theme */\n",
       "  --sklearn-color-text-on-default-background: var(--sg-text-color, var(--theme-code-foreground, var(--jp-content-font-color1, black)));\n",
       "  --sklearn-color-background: var(--sg-background-color, var(--theme-background, var(--jp-layout-color0, white)));\n",
       "  --sklearn-color-border-box: var(--sg-text-color, var(--theme-code-foreground, var(--jp-content-font-color1, black)));\n",
       "  --sklearn-color-icon: #696969;\n",
       "\n",
       "  @media (prefers-color-scheme: dark) {\n",
       "    /* Redefinition of color scheme for dark theme */\n",
       "    --sklearn-color-text-on-default-background: var(--sg-text-color, var(--theme-code-foreground, var(--jp-content-font-color1, white)));\n",
       "    --sklearn-color-background: var(--sg-background-color, var(--theme-background, var(--jp-layout-color0, #111)));\n",
       "    --sklearn-color-border-box: var(--sg-text-color, var(--theme-code-foreground, var(--jp-content-font-color1, white)));\n",
       "    --sklearn-color-icon: #878787;\n",
       "  }\n",
       "}\n",
       "\n",
       "#sk-container-id-1 {\n",
       "  color: var(--sklearn-color-text);\n",
       "}\n",
       "\n",
       "#sk-container-id-1 pre {\n",
       "  padding: 0;\n",
       "}\n",
       "\n",
       "#sk-container-id-1 input.sk-hidden--visually {\n",
       "  border: 0;\n",
       "  clip: rect(1px 1px 1px 1px);\n",
       "  clip: rect(1px, 1px, 1px, 1px);\n",
       "  height: 1px;\n",
       "  margin: -1px;\n",
       "  overflow: hidden;\n",
       "  padding: 0;\n",
       "  position: absolute;\n",
       "  width: 1px;\n",
       "}\n",
       "\n",
       "#sk-container-id-1 div.sk-dashed-wrapped {\n",
       "  border: 1px dashed var(--sklearn-color-line);\n",
       "  margin: 0 0.4em 0.5em 0.4em;\n",
       "  box-sizing: border-box;\n",
       "  padding-bottom: 0.4em;\n",
       "  background-color: var(--sklearn-color-background);\n",
       "}\n",
       "\n",
       "#sk-container-id-1 div.sk-container {\n",
       "  /* jupyter's `normalize.less` sets `[hidden] { display: none; }`\n",
       "     but bootstrap.min.css set `[hidden] { display: none !important; }`\n",
       "     so we also need the `!important` here to be able to override the\n",
       "     default hidden behavior on the sphinx rendered scikit-learn.org.\n",
       "     See: https://github.com/scikit-learn/scikit-learn/issues/21755 */\n",
       "  display: inline-block !important;\n",
       "  position: relative;\n",
       "}\n",
       "\n",
       "#sk-container-id-1 div.sk-text-repr-fallback {\n",
       "  display: none;\n",
       "}\n",
       "\n",
       "div.sk-parallel-item,\n",
       "div.sk-serial,\n",
       "div.sk-item {\n",
       "  /* draw centered vertical line to link estimators */\n",
       "  background-image: linear-gradient(var(--sklearn-color-text-on-default-background), var(--sklearn-color-text-on-default-background));\n",
       "  background-size: 2px 100%;\n",
       "  background-repeat: no-repeat;\n",
       "  background-position: center center;\n",
       "}\n",
       "\n",
       "/* Parallel-specific style estimator block */\n",
       "\n",
       "#sk-container-id-1 div.sk-parallel-item::after {\n",
       "  content: \"\";\n",
       "  width: 100%;\n",
       "  border-bottom: 2px solid var(--sklearn-color-text-on-default-background);\n",
       "  flex-grow: 1;\n",
       "}\n",
       "\n",
       "#sk-container-id-1 div.sk-parallel {\n",
       "  display: flex;\n",
       "  align-items: stretch;\n",
       "  justify-content: center;\n",
       "  background-color: var(--sklearn-color-background);\n",
       "  position: relative;\n",
       "}\n",
       "\n",
       "#sk-container-id-1 div.sk-parallel-item {\n",
       "  display: flex;\n",
       "  flex-direction: column;\n",
       "}\n",
       "\n",
       "#sk-container-id-1 div.sk-parallel-item:first-child::after {\n",
       "  align-self: flex-end;\n",
       "  width: 50%;\n",
       "}\n",
       "\n",
       "#sk-container-id-1 div.sk-parallel-item:last-child::after {\n",
       "  align-self: flex-start;\n",
       "  width: 50%;\n",
       "}\n",
       "\n",
       "#sk-container-id-1 div.sk-parallel-item:only-child::after {\n",
       "  width: 0;\n",
       "}\n",
       "\n",
       "/* Serial-specific style estimator block */\n",
       "\n",
       "#sk-container-id-1 div.sk-serial {\n",
       "  display: flex;\n",
       "  flex-direction: column;\n",
       "  align-items: center;\n",
       "  background-color: var(--sklearn-color-background);\n",
       "  padding-right: 1em;\n",
       "  padding-left: 1em;\n",
       "}\n",
       "\n",
       "\n",
       "/* Toggleable style: style used for estimator/Pipeline/ColumnTransformer box that is\n",
       "clickable and can be expanded/collapsed.\n",
       "- Pipeline and ColumnTransformer use this feature and define the default style\n",
       "- Estimators will overwrite some part of the style using the `sk-estimator` class\n",
       "*/\n",
       "\n",
       "/* Pipeline and ColumnTransformer style (default) */\n",
       "\n",
       "#sk-container-id-1 div.sk-toggleable {\n",
       "  /* Default theme specific background. It is overwritten whether we have a\n",
       "  specific estimator or a Pipeline/ColumnTransformer */\n",
       "  background-color: var(--sklearn-color-background);\n",
       "}\n",
       "\n",
       "/* Toggleable label */\n",
       "#sk-container-id-1 label.sk-toggleable__label {\n",
       "  cursor: pointer;\n",
       "  display: block;\n",
       "  width: 100%;\n",
       "  margin-bottom: 0;\n",
       "  padding: 0.5em;\n",
       "  box-sizing: border-box;\n",
       "  text-align: center;\n",
       "}\n",
       "\n",
       "#sk-container-id-1 label.sk-toggleable__label-arrow:before {\n",
       "  /* Arrow on the left of the label */\n",
       "  content: \"▸\";\n",
       "  float: left;\n",
       "  margin-right: 0.25em;\n",
       "  color: var(--sklearn-color-icon);\n",
       "}\n",
       "\n",
       "#sk-container-id-1 label.sk-toggleable__label-arrow:hover:before {\n",
       "  color: var(--sklearn-color-text);\n",
       "}\n",
       "\n",
       "/* Toggleable content - dropdown */\n",
       "\n",
       "#sk-container-id-1 div.sk-toggleable__content {\n",
       "  max-height: 0;\n",
       "  max-width: 0;\n",
       "  overflow: hidden;\n",
       "  text-align: left;\n",
       "  /* unfitted */\n",
       "  background-color: var(--sklearn-color-unfitted-level-0);\n",
       "}\n",
       "\n",
       "#sk-container-id-1 div.sk-toggleable__content.fitted {\n",
       "  /* fitted */\n",
       "  background-color: var(--sklearn-color-fitted-level-0);\n",
       "}\n",
       "\n",
       "#sk-container-id-1 div.sk-toggleable__content pre {\n",
       "  margin: 0.2em;\n",
       "  border-radius: 0.25em;\n",
       "  color: var(--sklearn-color-text);\n",
       "  /* unfitted */\n",
       "  background-color: var(--sklearn-color-unfitted-level-0);\n",
       "}\n",
       "\n",
       "#sk-container-id-1 div.sk-toggleable__content.fitted pre {\n",
       "  /* unfitted */\n",
       "  background-color: var(--sklearn-color-fitted-level-0);\n",
       "}\n",
       "\n",
       "#sk-container-id-1 input.sk-toggleable__control:checked~div.sk-toggleable__content {\n",
       "  /* Expand drop-down */\n",
       "  max-height: 200px;\n",
       "  max-width: 100%;\n",
       "  overflow: auto;\n",
       "}\n",
       "\n",
       "#sk-container-id-1 input.sk-toggleable__control:checked~label.sk-toggleable__label-arrow:before {\n",
       "  content: \"▾\";\n",
       "}\n",
       "\n",
       "/* Pipeline/ColumnTransformer-specific style */\n",
       "\n",
       "#sk-container-id-1 div.sk-label input.sk-toggleable__control:checked~label.sk-toggleable__label {\n",
       "  color: var(--sklearn-color-text);\n",
       "  background-color: var(--sklearn-color-unfitted-level-2);\n",
       "}\n",
       "\n",
       "#sk-container-id-1 div.sk-label.fitted input.sk-toggleable__control:checked~label.sk-toggleable__label {\n",
       "  background-color: var(--sklearn-color-fitted-level-2);\n",
       "}\n",
       "\n",
       "/* Estimator-specific style */\n",
       "\n",
       "/* Colorize estimator box */\n",
       "#sk-container-id-1 div.sk-estimator input.sk-toggleable__control:checked~label.sk-toggleable__label {\n",
       "  /* unfitted */\n",
       "  background-color: var(--sklearn-color-unfitted-level-2);\n",
       "}\n",
       "\n",
       "#sk-container-id-1 div.sk-estimator.fitted input.sk-toggleable__control:checked~label.sk-toggleable__label {\n",
       "  /* fitted */\n",
       "  background-color: var(--sklearn-color-fitted-level-2);\n",
       "}\n",
       "\n",
       "#sk-container-id-1 div.sk-label label.sk-toggleable__label,\n",
       "#sk-container-id-1 div.sk-label label {\n",
       "  /* The background is the default theme color */\n",
       "  color: var(--sklearn-color-text-on-default-background);\n",
       "}\n",
       "\n",
       "/* On hover, darken the color of the background */\n",
       "#sk-container-id-1 div.sk-label:hover label.sk-toggleable__label {\n",
       "  color: var(--sklearn-color-text);\n",
       "  background-color: var(--sklearn-color-unfitted-level-2);\n",
       "}\n",
       "\n",
       "/* Label box, darken color on hover, fitted */\n",
       "#sk-container-id-1 div.sk-label.fitted:hover label.sk-toggleable__label.fitted {\n",
       "  color: var(--sklearn-color-text);\n",
       "  background-color: var(--sklearn-color-fitted-level-2);\n",
       "}\n",
       "\n",
       "/* Estimator label */\n",
       "\n",
       "#sk-container-id-1 div.sk-label label {\n",
       "  font-family: monospace;\n",
       "  font-weight: bold;\n",
       "  display: inline-block;\n",
       "  line-height: 1.2em;\n",
       "}\n",
       "\n",
       "#sk-container-id-1 div.sk-label-container {\n",
       "  text-align: center;\n",
       "}\n",
       "\n",
       "/* Estimator-specific */\n",
       "#sk-container-id-1 div.sk-estimator {\n",
       "  font-family: monospace;\n",
       "  border: 1px dotted var(--sklearn-color-border-box);\n",
       "  border-radius: 0.25em;\n",
       "  box-sizing: border-box;\n",
       "  margin-bottom: 0.5em;\n",
       "  /* unfitted */\n",
       "  background-color: var(--sklearn-color-unfitted-level-0);\n",
       "}\n",
       "\n",
       "#sk-container-id-1 div.sk-estimator.fitted {\n",
       "  /* fitted */\n",
       "  background-color: var(--sklearn-color-fitted-level-0);\n",
       "}\n",
       "\n",
       "/* on hover */\n",
       "#sk-container-id-1 div.sk-estimator:hover {\n",
       "  /* unfitted */\n",
       "  background-color: var(--sklearn-color-unfitted-level-2);\n",
       "}\n",
       "\n",
       "#sk-container-id-1 div.sk-estimator.fitted:hover {\n",
       "  /* fitted */\n",
       "  background-color: var(--sklearn-color-fitted-level-2);\n",
       "}\n",
       "\n",
       "/* Specification for estimator info (e.g. \"i\" and \"?\") */\n",
       "\n",
       "/* Common style for \"i\" and \"?\" */\n",
       "\n",
       ".sk-estimator-doc-link,\n",
       "a:link.sk-estimator-doc-link,\n",
       "a:visited.sk-estimator-doc-link {\n",
       "  float: right;\n",
       "  font-size: smaller;\n",
       "  line-height: 1em;\n",
       "  font-family: monospace;\n",
       "  background-color: var(--sklearn-color-background);\n",
       "  border-radius: 1em;\n",
       "  height: 1em;\n",
       "  width: 1em;\n",
       "  text-decoration: none !important;\n",
       "  margin-left: 1ex;\n",
       "  /* unfitted */\n",
       "  border: var(--sklearn-color-unfitted-level-1) 1pt solid;\n",
       "  color: var(--sklearn-color-unfitted-level-1);\n",
       "}\n",
       "\n",
       ".sk-estimator-doc-link.fitted,\n",
       "a:link.sk-estimator-doc-link.fitted,\n",
       "a:visited.sk-estimator-doc-link.fitted {\n",
       "  /* fitted */\n",
       "  border: var(--sklearn-color-fitted-level-1) 1pt solid;\n",
       "  color: var(--sklearn-color-fitted-level-1);\n",
       "}\n",
       "\n",
       "/* On hover */\n",
       "div.sk-estimator:hover .sk-estimator-doc-link:hover,\n",
       ".sk-estimator-doc-link:hover,\n",
       "div.sk-label-container:hover .sk-estimator-doc-link:hover,\n",
       ".sk-estimator-doc-link:hover {\n",
       "  /* unfitted */\n",
       "  background-color: var(--sklearn-color-unfitted-level-3);\n",
       "  color: var(--sklearn-color-background);\n",
       "  text-decoration: none;\n",
       "}\n",
       "\n",
       "div.sk-estimator.fitted:hover .sk-estimator-doc-link.fitted:hover,\n",
       ".sk-estimator-doc-link.fitted:hover,\n",
       "div.sk-label-container:hover .sk-estimator-doc-link.fitted:hover,\n",
       ".sk-estimator-doc-link.fitted:hover {\n",
       "  /* fitted */\n",
       "  background-color: var(--sklearn-color-fitted-level-3);\n",
       "  color: var(--sklearn-color-background);\n",
       "  text-decoration: none;\n",
       "}\n",
       "\n",
       "/* Span, style for the box shown on hovering the info icon */\n",
       ".sk-estimator-doc-link span {\n",
       "  display: none;\n",
       "  z-index: 9999;\n",
       "  position: relative;\n",
       "  font-weight: normal;\n",
       "  right: .2ex;\n",
       "  padding: .5ex;\n",
       "  margin: .5ex;\n",
       "  width: min-content;\n",
       "  min-width: 20ex;\n",
       "  max-width: 50ex;\n",
       "  color: var(--sklearn-color-text);\n",
       "  box-shadow: 2pt 2pt 4pt #999;\n",
       "  /* unfitted */\n",
       "  background: var(--sklearn-color-unfitted-level-0);\n",
       "  border: .5pt solid var(--sklearn-color-unfitted-level-3);\n",
       "}\n",
       "\n",
       ".sk-estimator-doc-link.fitted span {\n",
       "  /* fitted */\n",
       "  background: var(--sklearn-color-fitted-level-0);\n",
       "  border: var(--sklearn-color-fitted-level-3);\n",
       "}\n",
       "\n",
       ".sk-estimator-doc-link:hover span {\n",
       "  display: block;\n",
       "}\n",
       "\n",
       "/* \"?\"-specific style due to the `<a>` HTML tag */\n",
       "\n",
       "#sk-container-id-1 a.estimator_doc_link {\n",
       "  float: right;\n",
       "  font-size: 1rem;\n",
       "  line-height: 1em;\n",
       "  font-family: monospace;\n",
       "  background-color: var(--sklearn-color-background);\n",
       "  border-radius: 1rem;\n",
       "  height: 1rem;\n",
       "  width: 1rem;\n",
       "  text-decoration: none;\n",
       "  /* unfitted */\n",
       "  color: var(--sklearn-color-unfitted-level-1);\n",
       "  border: var(--sklearn-color-unfitted-level-1) 1pt solid;\n",
       "}\n",
       "\n",
       "#sk-container-id-1 a.estimator_doc_link.fitted {\n",
       "  /* fitted */\n",
       "  border: var(--sklearn-color-fitted-level-1) 1pt solid;\n",
       "  color: var(--sklearn-color-fitted-level-1);\n",
       "}\n",
       "\n",
       "/* On hover */\n",
       "#sk-container-id-1 a.estimator_doc_link:hover {\n",
       "  /* unfitted */\n",
       "  background-color: var(--sklearn-color-unfitted-level-3);\n",
       "  color: var(--sklearn-color-background);\n",
       "  text-decoration: none;\n",
       "}\n",
       "\n",
       "#sk-container-id-1 a.estimator_doc_link.fitted:hover {\n",
       "  /* fitted */\n",
       "  background-color: var(--sklearn-color-fitted-level-3);\n",
       "}\n",
       "</style><div id=\"sk-container-id-1\" class=\"sk-top-container\"><div class=\"sk-text-repr-fallback\"><pre>Pipeline(steps=[(&#x27;ordinal_encoding&#x27;,\n",
       "                 OrdinalEncoderWithCategories(categories=[[&#x27;18-34&#x27;, &#x27;35-37&#x27;,\n",
       "                                                           &#x27;38-39&#x27;, &#x27;40-42&#x27;,\n",
       "                                                           &#x27;43-44&#x27;, &#x27;45-50&#x27;],\n",
       "                                                          [&#x27;0&#x27;, &#x27;1&#x27;, &#x27;2&#x27;, &#x27;3&#x27;,\n",
       "                                                           &#x27;4&#x27;, &#x27;5&#x27;, &#x27;&gt;5&#x27;],\n",
       "                                                          [&#x27;18-34&#x27;, &#x27;35-37&#x27;,\n",
       "                                                           &#x27;38-39&#x27;, &#x27;40-42&#x27;,\n",
       "                                                           &#x27;43-44&#x27;, &#x27;45-50&#x27;],\n",
       "                                                          [&#x27;18-34&#x27;, &#x27;35-37&#x27;,\n",
       "                                                           &#x27;38-39&#x27;, &#x27;40-42&#x27;,\n",
       "                                                           &#x27;43-44&#x27;, &#x27;45-50&#x27;,\n",
       "                                                           &#x27;51-55&#x27;, &#x27;56-60&#x27;,\n",
       "                                                           &#x27;&gt;60&#x27;],\n",
       "                                                          [&#x27;0&#x27;,\n",
       "                                                           &#x27;0 - frozen cycle&#x27;,\n",
       "                                                           &#x27;1-5&#x27;, &#x27;6-10&#x27;,\n",
       "                                                           &#x27;11-15&#x27;, &#x27;16-20&#x27;,\n",
       "                                                           &#x27;21-25&#x27;, &#x27;26-30&#x27;,\n",
       "                                                           &#x27;31-...\n",
       "                                                       &#x27;Fresh eggs collected&#x27;,\n",
       "                                                       &#x27;Total eggs mixed&#x27;,\n",
       "                                                       &#x27;Total embryos created&#x27;,\n",
       "                                                       &#x27;Embryos transferred&#x27;,\n",
       "                                                       &#x27;Total embryos &#x27;\n",
       "                                                       &#x27;thawed&#x27;])),\n",
       "                (&#x27;ordinal_encoding_arbitrary&#x27;,\n",
       "                 OrdinalEncoder(encoding_method=&#x27;arbitrary&#x27;,\n",
       "                                variables=[&#x27;Specific treatment type&#x27;,\n",
       "                                           &#x27;Egg source&#x27;, &#x27;Sperm source&#x27;,\n",
       "                                           &#x27;Patient ethnicity&#x27;,\n",
       "                                           &#x27;Date of embryo transfer&#x27;])),\n",
       "                (&#x27;smart_correlation&#x27;,\n",
       "                 SmartCorrelatedSelection(method=&#x27;spearman&#x27;, threshold=0.9))])</pre><b>In a Jupyter environment, please rerun this cell to show the HTML representation or trust the notebook. <br />On GitHub, the HTML representation is unable to render, please try loading this page with nbviewer.org.</b></div><div class=\"sk-container\" hidden><div class=\"sk-item sk-dashed-wrapped\"><div class=\"sk-label-container\"><div class=\"sk-label  sk-toggleable\"><input class=\"sk-toggleable__control sk-hidden--visually\" id=\"sk-estimator-id-1\" type=\"checkbox\" ><label for=\"sk-estimator-id-1\" class=\"sk-toggleable__label  sk-toggleable__label-arrow \">&nbsp;&nbsp;Pipeline<a class=\"sk-estimator-doc-link \" rel=\"noreferrer\" target=\"_blank\" href=\"https://scikit-learn.org/1.5/modules/generated/sklearn.pipeline.Pipeline.html\">?<span>Documentation for Pipeline</span></a><span class=\"sk-estimator-doc-link \">i<span>Not fitted</span></span></label><div class=\"sk-toggleable__content \"><pre>Pipeline(steps=[(&#x27;ordinal_encoding&#x27;,\n",
       "                 OrdinalEncoderWithCategories(categories=[[&#x27;18-34&#x27;, &#x27;35-37&#x27;,\n",
       "                                                           &#x27;38-39&#x27;, &#x27;40-42&#x27;,\n",
       "                                                           &#x27;43-44&#x27;, &#x27;45-50&#x27;],\n",
       "                                                          [&#x27;0&#x27;, &#x27;1&#x27;, &#x27;2&#x27;, &#x27;3&#x27;,\n",
       "                                                           &#x27;4&#x27;, &#x27;5&#x27;, &#x27;&gt;5&#x27;],\n",
       "                                                          [&#x27;18-34&#x27;, &#x27;35-37&#x27;,\n",
       "                                                           &#x27;38-39&#x27;, &#x27;40-42&#x27;,\n",
       "                                                           &#x27;43-44&#x27;, &#x27;45-50&#x27;],\n",
       "                                                          [&#x27;18-34&#x27;, &#x27;35-37&#x27;,\n",
       "                                                           &#x27;38-39&#x27;, &#x27;40-42&#x27;,\n",
       "                                                           &#x27;43-44&#x27;, &#x27;45-50&#x27;,\n",
       "                                                           &#x27;51-55&#x27;, &#x27;56-60&#x27;,\n",
       "                                                           &#x27;&gt;60&#x27;],\n",
       "                                                          [&#x27;0&#x27;,\n",
       "                                                           &#x27;0 - frozen cycle&#x27;,\n",
       "                                                           &#x27;1-5&#x27;, &#x27;6-10&#x27;,\n",
       "                                                           &#x27;11-15&#x27;, &#x27;16-20&#x27;,\n",
       "                                                           &#x27;21-25&#x27;, &#x27;26-30&#x27;,\n",
       "                                                           &#x27;31-...\n",
       "                                                       &#x27;Fresh eggs collected&#x27;,\n",
       "                                                       &#x27;Total eggs mixed&#x27;,\n",
       "                                                       &#x27;Total embryos created&#x27;,\n",
       "                                                       &#x27;Embryos transferred&#x27;,\n",
       "                                                       &#x27;Total embryos &#x27;\n",
       "                                                       &#x27;thawed&#x27;])),\n",
       "                (&#x27;ordinal_encoding_arbitrary&#x27;,\n",
       "                 OrdinalEncoder(encoding_method=&#x27;arbitrary&#x27;,\n",
       "                                variables=[&#x27;Specific treatment type&#x27;,\n",
       "                                           &#x27;Egg source&#x27;, &#x27;Sperm source&#x27;,\n",
       "                                           &#x27;Patient ethnicity&#x27;,\n",
       "                                           &#x27;Date of embryo transfer&#x27;])),\n",
       "                (&#x27;smart_correlation&#x27;,\n",
       "                 SmartCorrelatedSelection(method=&#x27;spearman&#x27;, threshold=0.9))])</pre></div> </div></div><div class=\"sk-serial\"><div class=\"sk-item\"><div class=\"sk-estimator  sk-toggleable\"><input class=\"sk-toggleable__control sk-hidden--visually\" id=\"sk-estimator-id-2\" type=\"checkbox\" ><label for=\"sk-estimator-id-2\" class=\"sk-toggleable__label  sk-toggleable__label-arrow \">OrdinalEncoderWithCategories</label><div class=\"sk-toggleable__content \"><pre>OrdinalEncoderWithCategories(categories=[[&#x27;18-34&#x27;, &#x27;35-37&#x27;, &#x27;38-39&#x27;, &#x27;40-42&#x27;,\n",
       "                                          &#x27;43-44&#x27;, &#x27;45-50&#x27;],\n",
       "                                         [&#x27;0&#x27;, &#x27;1&#x27;, &#x27;2&#x27;, &#x27;3&#x27;, &#x27;4&#x27;, &#x27;5&#x27;, &#x27;&gt;5&#x27;],\n",
       "                                         [&#x27;18-34&#x27;, &#x27;35-37&#x27;, &#x27;38-39&#x27;, &#x27;40-42&#x27;,\n",
       "                                          &#x27;43-44&#x27;, &#x27;45-50&#x27;],\n",
       "                                         [&#x27;18-34&#x27;, &#x27;35-37&#x27;, &#x27;38-39&#x27;, &#x27;40-42&#x27;,\n",
       "                                          &#x27;43-44&#x27;, &#x27;45-50&#x27;, &#x27;51-55&#x27;, &#x27;56-60&#x27;,\n",
       "                                          &#x27;&gt;60&#x27;],\n",
       "                                         [&#x27;0&#x27;, &#x27;0 - frozen cycle&#x27;, &#x27;1-5&#x27;,\n",
       "                                          &#x27;6-10&#x27;, &#x27;11-15&#x27;, &#x27;16-20&#x27;, &#x27;21-25&#x27;,\n",
       "                                          &#x27;26-30&#x27;, &#x27;31-35&#x27;, &#x27;36-40&#x27;, &#x27;&gt;40&#x27;],\n",
       "                                         [&#x27;0&#x27;, &#x27;0 - frozen cyc...\n",
       "                                         [&#x27;0&#x27;, &#x27;0 - frozen cycle&#x27;, &#x27;1-5&#x27;,\n",
       "                                          &#x27;6-10&#x27;, &#x27;11-15&#x27;, &#x27;16-20&#x27;, &#x27;21-25&#x27;,\n",
       "                                          &#x27;26-30&#x27;, &#x27;&gt;30&#x27;],\n",
       "                                         [&#x27;0&#x27;, &#x27;1&#x27;, &#x27;1e&#x27;, &#x27;2&#x27;, &#x27;3&#x27;],\n",
       "                                         [&#x27;0 - fresh cycle&#x27;, &#x27;0 - frozen cycle&#x27;,\n",
       "                                          &#x27;1-5&#x27;, &#x27;6-10&#x27;, &#x27;&gt;10&#x27;]],\n",
       "                             columns=[&#x27;Patient age at treatment&#x27;,\n",
       "                                      &#x27;Total number of previous IVF cycles&#x27;,\n",
       "                                      &#x27;Patient/Egg provider age&#x27;,\n",
       "                                      &#x27;Partner/Sperm provider age&#x27;,\n",
       "                                      &#x27;Fresh eggs collected&#x27;,\n",
       "                                      &#x27;Total eggs mixed&#x27;,\n",
       "                                      &#x27;Total embryos created&#x27;,\n",
       "                                      &#x27;Embryos transferred&#x27;,\n",
       "                                      &#x27;Total embryos thawed&#x27;])</pre></div> </div></div><div class=\"sk-item\"><div class=\"sk-estimator  sk-toggleable\"><input class=\"sk-toggleable__control sk-hidden--visually\" id=\"sk-estimator-id-3\" type=\"checkbox\" ><label for=\"sk-estimator-id-3\" class=\"sk-toggleable__label  sk-toggleable__label-arrow \">OrdinalEncoder</label><div class=\"sk-toggleable__content \"><pre>OrdinalEncoder(encoding_method=&#x27;arbitrary&#x27;,\n",
       "               variables=[&#x27;Specific treatment type&#x27;, &#x27;Egg source&#x27;,\n",
       "                          &#x27;Sperm source&#x27;, &#x27;Patient ethnicity&#x27;,\n",
       "                          &#x27;Date of embryo transfer&#x27;])</pre></div> </div></div><div class=\"sk-item\"><div class=\"sk-estimator  sk-toggleable\"><input class=\"sk-toggleable__control sk-hidden--visually\" id=\"sk-estimator-id-4\" type=\"checkbox\" ><label for=\"sk-estimator-id-4\" class=\"sk-toggleable__label  sk-toggleable__label-arrow \">SmartCorrelatedSelection</label><div class=\"sk-toggleable__content \"><pre>SmartCorrelatedSelection(method=&#x27;spearman&#x27;, threshold=0.9)</pre></div> </div></div></div></div></div></div>"
      ],
      "text/plain": [
       "Pipeline(steps=[('ordinal_encoding',\n",
       "                 OrdinalEncoderWithCategories(categories=[['18-34', '35-37',\n",
       "                                                           '38-39', '40-42',\n",
       "                                                           '43-44', '45-50'],\n",
       "                                                          ['0', '1', '2', '3',\n",
       "                                                           '4', '5', '>5'],\n",
       "                                                          ['18-34', '35-37',\n",
       "                                                           '38-39', '40-42',\n",
       "                                                           '43-44', '45-50'],\n",
       "                                                          ['18-34', '35-37',\n",
       "                                                           '38-39', '40-42',\n",
       "                                                           '43-44', '45-50',\n",
       "                                                           '51-55', '56-60',\n",
       "                                                           '>60'],\n",
       "                                                          ['0',\n",
       "                                                           '0 - frozen cycle',\n",
       "                                                           '1-5', '6-10',\n",
       "                                                           '11-15', '16-20',\n",
       "                                                           '21-25', '26-30',\n",
       "                                                           '31-...\n",
       "                                                       'Fresh eggs collected',\n",
       "                                                       'Total eggs mixed',\n",
       "                                                       'Total embryos created',\n",
       "                                                       'Embryos transferred',\n",
       "                                                       'Total embryos '\n",
       "                                                       'thawed'])),\n",
       "                ('ordinal_encoding_arbitrary',\n",
       "                 OrdinalEncoder(encoding_method='arbitrary',\n",
       "                                variables=['Specific treatment type',\n",
       "                                           'Egg source', 'Sperm source',\n",
       "                                           'Patient ethnicity',\n",
       "                                           'Date of embryo transfer'])),\n",
       "                ('smart_correlation',\n",
       "                 SmartCorrelatedSelection(method='spearman', threshold=0.9))])"
      ]
     },
     "execution_count": 6,
     "metadata": {},
     "output_type": "execute_result"
    }
   ],
   "source": [
    "from sklearn.pipeline import Pipeline\n",
    "from feature_engine.selection import SmartCorrelatedSelection\n",
    "from feature_engine.encoding import OrdinalEncoder\n",
    "from src.custom_transformers import OrdinalEncoderWithCategories\n",
    "\n",
    "\n",
    "# Define the natural order for each feature\n",
    "categories = [\n",
    "    [\"18-34\", \"35-37\", \"38-39\", \"40-42\", \"43-44\", \"45-50\"],  # Patient age at treatment\n",
    "    [\"0\", \"1\", \"2\", \"3\", \"4\", \"5\", \">5\"],  # Total number of previous IVF cycles\n",
    "    [\"18-34\", \"35-37\", \"38-39\", \"40-42\", \"43-44\", \"45-50\"],  # Patient/Egg provider age\n",
    "    [\n",
    "        \"18-34\",\n",
    "        \"35-37\",\n",
    "        \"38-39\",\n",
    "        \"40-42\",\n",
    "        \"43-44\",\n",
    "        \"45-50\",\n",
    "        \"51-55\",\n",
    "        \"56-60\",\n",
    "        \">60\",\n",
    "    ],  # Partner/Sperm provider age\n",
    "    [\n",
    "        \"0\",\n",
    "        \"0 - frozen cycle\",\n",
    "        \"1-5\",\n",
    "        \"6-10\",\n",
    "        \"11-15\",\n",
    "        \"16-20\",\n",
    "        \"21-25\",\n",
    "        \"26-30\",\n",
    "        \"31-35\",\n",
    "        \"36-40\",\n",
    "        \">40\",\n",
    "    ],  # Fresh eggs collected\n",
    "    [\n",
    "        \"0\",\n",
    "        \"0 - frozen cycle\",\n",
    "        \"1-5\",\n",
    "        \"6-10\",\n",
    "        \"11-15\",\n",
    "        \"16-20\",\n",
    "        \"21-25\",\n",
    "        \"26-30\",\n",
    "        \"31-35\",\n",
    "        \"36-40\",\n",
    "        \">40\",\n",
    "    ],  # Total eggs mixed\n",
    "    [\n",
    "        \"0\",\n",
    "        \"0 - frozen cycle\",\n",
    "        \"1-5\",\n",
    "        \"6-10\",\n",
    "        \"11-15\",\n",
    "        \"16-20\",\n",
    "        \"21-25\",\n",
    "        \"26-30\",\n",
    "        \">30\",\n",
    "    ],  # Total embryos created\n",
    "    [\"0\", \"1\", \"1e\", \"2\", \"3\"],  # Embryos transferred\n",
    "    [\n",
    "        \"0 - fresh cycle\",\n",
    "        \"0 - frozen cycle\",\n",
    "        \"1-5\",\n",
    "        \"6-10\",\n",
    "        \">10\",\n",
    "    ],  # Total embryos thawed\n",
    "]\n",
    "\n",
    "# Define columns that need ordinal encoding\n",
    "ordinal_columns = [\n",
    "    \"Patient age at treatment\",\n",
    "    \"Total number of previous IVF cycles\",\n",
    "    \"Patient/Egg provider age\",\n",
    "    \"Partner/Sperm provider age\",\n",
    "    \"Fresh eggs collected\",\n",
    "    \"Total eggs mixed\",\n",
    "    \"Total embryos created\",\n",
    "    \"Embryos transferred\",\n",
    "    \"Total embryos thawed\",\n",
    "]\n",
    "\n",
    "\n",
    "def PreprocessingPipeline():\n",
    "    pipeline_base = Pipeline(\n",
    "        [\n",
    "            (\n",
    "                \"ordinal_encoding\",\n",
    "                OrdinalEncoderWithCategories(\n",
    "                    categories=categories, columns=ordinal_columns\n",
    "                ),\n",
    "            ),\n",
    "            (\n",
    "                \"ordinal_encoding_arbitrary\",\n",
    "                OrdinalEncoder(\n",
    "                    encoding_method ='arbitrary',\n",
    "                    variables=[\n",
    "                        \"Specific treatment type\",\n",
    "                        \"Egg source\",\n",
    "                        \"Sperm source\",\n",
    "                        \"Patient ethnicity\",\n",
    "                        \"Date of embryo transfer\",\n",
    "                    ],\n",
    "                ),\n",
    "            ),\n",
    "            (\n",
    "                \"smart_correlation\",\n",
    "                SmartCorrelatedSelection(\n",
    "                    method=\"spearman\",\n",
    "                    threshold=0.9,\n",
    "                ),\n",
    "            ),\n",
    "        ]\n",
    "    )\n",
    "\n",
    "    return pipeline_base\n",
    "\n",
    "\n",
    "PreprocessingPipeline()"
   ]
  },
  {
   "cell_type": "markdown",
   "metadata": {},
   "source": [
    "### ML Pipeline for Modelling and Hyperparameter Optimisation"
   ]
  },
  {
   "cell_type": "code",
   "execution_count": 7,
   "metadata": {},
   "outputs": [],
   "source": [
    "# Feat Scaling\n",
    "from sklearn.preprocessing import StandardScaler\n",
    "\n",
    "# Feat Selection\n",
    "from sklearn.feature_selection import SelectFromModel\n",
    "\n",
    "# ML algorithms\n",
    "from sklearn.linear_model import LogisticRegression\n",
    "from sklearn.tree import DecisionTreeClassifier\n",
    "from sklearn.ensemble import (\n",
    "    RandomForestClassifier,\n",
    "    GradientBoostingClassifier,\n",
    "    ExtraTreesClassifier,\n",
    "    AdaBoostClassifier,\n",
    ")\n",
    "from xgboost import XGBClassifier\n",
    "\n",
    "\n",
    "def PipelineClf(model):\n",
    "    pipeline_base = Pipeline(\n",
    "        [\n",
    "            (\"scaler\", StandardScaler()),\n",
    "            (\"feat_selection\", SelectFromModel(model)),\n",
    "            (\"model\", model),\n",
    "        ]\n",
    "    )\n",
    "\n",
    "    return pipeline_base"
   ]
  },
  {
   "cell_type": "markdown",
   "metadata": {},
   "source": [
    "Custom Class for Hyperparameter Optimisation using GridSearchCV"
   ]
  },
  {
   "cell_type": "code",
   "execution_count": 8,
   "metadata": {},
   "outputs": [],
   "source": [
    "from sklearn.model_selection import GridSearchCV\n",
    "\n",
    "\n",
    "class HyperparameterOptimizationSearch:\n",
    "    \n",
    "    def __init__(self, models, params):\n",
    "        # Initialize with dictionaries of models and their corresponding hyperparameters\n",
    "        self.models = models\n",
    "        self.params = params\n",
    "        # Store the keys (model names) for easy iteration\n",
    "        self.keys = models.keys()  \n",
    "        # Initialize an empty dictionary to store grid search results\n",
    "        self.grid_searches = {}    \n",
    "\n",
    "    def fit(self, X, y, cv, n_jobs=-1, verbose=1, scoring=None, refit=\"f1\"):\n",
    "        # Fit GridSearchCV for each model with provided data and parameters\n",
    "        \n",
    "        for key in self.keys:\n",
    "            # Inform about the model being processed and the number of parameter combinations\n",
    "            print(f\"\\nRunning GridSearchCV for {key} with {len(self.params[key])} parameter combinations.\\n\")\n",
    "\n",
    "            # Create a model pipeline (PipelineClf)\n",
    "            model = PipelineClf(self.models[key])\n",
    "            \n",
    "            # Retrieve the corresponding hyperparameters for the model\n",
    "            params = self.params[key]\n",
    "            \n",
    "            # Set up the GridSearchCV with the model, parameters, and specified settings\n",
    "            gs = GridSearchCV(\n",
    "                model,\n",
    "                params,\n",
    "                cv=cv,           # Cross-validation strategy\n",
    "                n_jobs=n_jobs,   # Number of parallel jobs (-1 means using all processors)\n",
    "                verbose=verbose, # Verbosity level\n",
    "                scoring=scoring, # Scoring metrics\n",
    "                refit=refit,     # Metric to refit the model on after grid search\n",
    "            )\n",
    "            \n",
    "            # Fit the model with the provided data (X and y)\n",
    "            gs.fit(X, y)\n",
    "            \n",
    "            # Store the result of the grid search in the dictionary under the model's name\n",
    "            self.grid_searches[key] = gs\n",
    "            \n",
    "    def score_summary(self, sort_by=\"f1\", scoring=None):\n",
    "        # Summarize and return the results of the grid search\n",
    "        \n",
    "        if scoring is None:\n",
    "            # Ensure a scoring dictionary is provided; otherwise, raise an error\n",
    "            raise ValueError(\"Scoring dictionary must be provided\")\n",
    "        \n",
    "        # List to store rows for the summary DataFrame\n",
    "        rows = []\n",
    "        \n",
    "        for k in self.grid_searches:\n",
    "            # For each model, retrieve the grid search results\n",
    "            \n",
    "            # Get the hyperparameter combinations tested\n",
    "            params = self.grid_searches[k].cv_results_[\"params\"]\n",
    "            \n",
    "            # Retrieve the mean test scores for each metric\n",
    "            mean_scores = {\n",
    "                metric: self.grid_searches[k].cv_results_[f\"mean_test_{metric}\"]\n",
    "                for metric in scoring.keys()\n",
    "            }\n",
    "            # For each parameter combination, create a dictionary of the results\n",
    "            for i in range(len(params)):\n",
    "                # Add model name and hyperparameters\n",
    "                row_data = {\"estimator\": k, **params[i]}\n",
    "                # Add mean scores for each metric (averaged across CV folds)\n",
    "                row_data.update({f\"mean_{metric}\": mean_scores[metric][i] for metric in mean_scores})\n",
    "                # Convert to a Pandas Series and add to the list\n",
    "                rows.append(pd.Series(row_data))\n",
    "        \n",
    "        # Convert the list of Series into a DataFrame and sort it by the specified metric\n",
    "        df = pd.DataFrame(rows).sort_values([f\"mean_{sort_by}\"], ascending=False)\n",
    "        \n",
    "        # Return the sorted DataFrame and the dictionary of grid search results\n",
    "        return df, self.grid_searches\n"
   ]
  },
  {
   "cell_type": "markdown",
   "metadata": {},
   "source": [
    "### Split Train and Test Set"
   ]
  },
  {
   "cell_type": "code",
   "execution_count": 9,
   "metadata": {},
   "outputs": [
    {
     "name": "stdout",
     "output_type": "stream",
     "text": [
      "(108556, 28) (27139, 28) (108556,) (27139,)\n"
     ]
    }
   ],
   "source": [
    "from sklearn.model_selection import train_test_split\n",
    "\n",
    "# Define features (X) and target (y)\n",
    "X = df.drop(columns=[\"Live birth occurrence\"])  # Drop the target column from features\n",
    "y = df[\"Live birth occurrence\"]  # Define the target column\n",
    "\n",
    "# Split the dataset into training and testing sets\n",
    "X_train, X_test, y_train, y_test = train_test_split(\n",
    "    X,               # Only features\n",
    "    y,               # Target variable\n",
    "    test_size=0.2,   # 20% of the data for testing\n",
    "    random_state=0   # Random state for reproducibility\n",
    ")\n",
    "\n",
    "print(X_train.shape, X_test.shape, y_train.shape, y_test.shape)"
   ]
  },
  {
   "cell_type": "markdown",
   "metadata": {},
   "source": [
    "Apply the preprocessing pipeline"
   ]
  },
  {
   "cell_type": "code",
   "execution_count": 10,
   "metadata": {},
   "outputs": [
    {
     "data": {
      "text/html": [
       "<div>\n",
       "<style scoped>\n",
       "    .dataframe tbody tr th:only-of-type {\n",
       "        vertical-align: middle;\n",
       "    }\n",
       "\n",
       "    .dataframe tbody tr th {\n",
       "        vertical-align: top;\n",
       "    }\n",
       "\n",
       "    .dataframe thead th {\n",
       "        text-align: right;\n",
       "    }\n",
       "</style>\n",
       "<table border=\"1\" class=\"dataframe\">\n",
       "  <thead>\n",
       "    <tr style=\"text-align: right;\">\n",
       "      <th></th>\n",
       "      <th>Patient age at treatment</th>\n",
       "      <th>Total number of previous IVF cycles</th>\n",
       "      <th>Total number of previous pregnancies - IVF and DI</th>\n",
       "      <th>Total number of previous live births - IVF or DI</th>\n",
       "      <th>Causes of infertility - tubal disease</th>\n",
       "      <th>Causes of infertility - ovulatory disorder</th>\n",
       "      <th>Causes of infertility - male factor</th>\n",
       "      <th>Causes of infertility - patient unexplained</th>\n",
       "      <th>Causes of infertility - endometriosis</th>\n",
       "      <th>Stimulation used</th>\n",
       "      <th>...</th>\n",
       "      <th>Fresh cycle</th>\n",
       "      <th>Frozen cycle</th>\n",
       "      <th>Fresh eggs collected</th>\n",
       "      <th>Total eggs mixed</th>\n",
       "      <th>Total embryos created</th>\n",
       "      <th>Embryos transferred</th>\n",
       "      <th>Total embryos thawed</th>\n",
       "      <th>Embryos transferred from eggs micro-injected</th>\n",
       "      <th>Date of embryo transfer</th>\n",
       "      <th>Patient ethnicity</th>\n",
       "    </tr>\n",
       "  </thead>\n",
       "  <tbody>\n",
       "    <tr>\n",
       "      <th>37915</th>\n",
       "      <td>18-34</td>\n",
       "      <td>4</td>\n",
       "      <td>1</td>\n",
       "      <td>1</td>\n",
       "      <td>0</td>\n",
       "      <td>1</td>\n",
       "      <td>1</td>\n",
       "      <td>0</td>\n",
       "      <td>0</td>\n",
       "      <td>0</td>\n",
       "      <td>...</td>\n",
       "      <td>0</td>\n",
       "      <td>1</td>\n",
       "      <td>0 - frozen cycle</td>\n",
       "      <td>0 - frozen cycle</td>\n",
       "      <td>0 - frozen cycle</td>\n",
       "      <td>1e</td>\n",
       "      <td>1-5</td>\n",
       "      <td>1</td>\n",
       "      <td>0 - frozen</td>\n",
       "      <td>Other</td>\n",
       "    </tr>\n",
       "    <tr>\n",
       "      <th>112081</th>\n",
       "      <td>18-34</td>\n",
       "      <td>1</td>\n",
       "      <td>0</td>\n",
       "      <td>0</td>\n",
       "      <td>0</td>\n",
       "      <td>0</td>\n",
       "      <td>0</td>\n",
       "      <td>0</td>\n",
       "      <td>0</td>\n",
       "      <td>1</td>\n",
       "      <td>...</td>\n",
       "      <td>1</td>\n",
       "      <td>0</td>\n",
       "      <td>11-15</td>\n",
       "      <td>11-15</td>\n",
       "      <td>6-10</td>\n",
       "      <td>1e</td>\n",
       "      <td>0 - fresh cycle</td>\n",
       "      <td>0</td>\n",
       "      <td>5 - fresh</td>\n",
       "      <td>White</td>\n",
       "    </tr>\n",
       "    <tr>\n",
       "      <th>83821</th>\n",
       "      <td>18-34</td>\n",
       "      <td>0</td>\n",
       "      <td>0</td>\n",
       "      <td>0</td>\n",
       "      <td>0</td>\n",
       "      <td>0</td>\n",
       "      <td>1</td>\n",
       "      <td>0</td>\n",
       "      <td>0</td>\n",
       "      <td>1</td>\n",
       "      <td>...</td>\n",
       "      <td>1</td>\n",
       "      <td>0</td>\n",
       "      <td>6-10</td>\n",
       "      <td>6-10</td>\n",
       "      <td>1-5</td>\n",
       "      <td>2</td>\n",
       "      <td>0 - fresh cycle</td>\n",
       "      <td>2</td>\n",
       "      <td>3 - fresh</td>\n",
       "      <td>White</td>\n",
       "    </tr>\n",
       "  </tbody>\n",
       "</table>\n",
       "<p>3 rows × 28 columns</p>\n",
       "</div>"
      ],
      "text/plain": [
       "       Patient age at treatment Total number of previous IVF cycles  \\\n",
       "37915                     18-34                                   4   \n",
       "112081                    18-34                                   1   \n",
       "83821                     18-34                                   0   \n",
       "\n",
       "        Total number of previous pregnancies - IVF and DI  \\\n",
       "37915                                                   1   \n",
       "112081                                                  0   \n",
       "83821                                                   0   \n",
       "\n",
       "        Total number of previous live births - IVF or DI  \\\n",
       "37915                                                  1   \n",
       "112081                                                 0   \n",
       "83821                                                  0   \n",
       "\n",
       "        Causes of infertility - tubal disease  \\\n",
       "37915                                       0   \n",
       "112081                                      0   \n",
       "83821                                       0   \n",
       "\n",
       "        Causes of infertility - ovulatory disorder  \\\n",
       "37915                                            1   \n",
       "112081                                           0   \n",
       "83821                                            0   \n",
       "\n",
       "        Causes of infertility - male factor  \\\n",
       "37915                                     1   \n",
       "112081                                    0   \n",
       "83821                                     1   \n",
       "\n",
       "        Causes of infertility - patient unexplained  \\\n",
       "37915                                             0   \n",
       "112081                                            0   \n",
       "83821                                             0   \n",
       "\n",
       "        Causes of infertility - endometriosis  Stimulation used  ...  \\\n",
       "37915                                       0                 0  ...   \n",
       "112081                                      0                 1  ...   \n",
       "83821                                       0                 1  ...   \n",
       "\n",
       "       Fresh cycle Frozen cycle Fresh eggs collected  Total eggs mixed  \\\n",
       "37915            0            1     0 - frozen cycle  0 - frozen cycle   \n",
       "112081           1            0                11-15             11-15   \n",
       "83821            1            0                 6-10              6-10   \n",
       "\n",
       "        Total embryos created  Embryos transferred Total embryos thawed  \\\n",
       "37915        0 - frozen cycle                   1e                  1-5   \n",
       "112081                   6-10                   1e      0 - fresh cycle   \n",
       "83821                     1-5                    2      0 - fresh cycle   \n",
       "\n",
       "       Embryos transferred from eggs micro-injected  Date of embryo transfer  \\\n",
       "37915                                             1               0 - frozen   \n",
       "112081                                            0                5 - fresh   \n",
       "83821                                             2                3 - fresh   \n",
       "\n",
       "        Patient ethnicity  \n",
       "37915               Other  \n",
       "112081              White  \n",
       "83821               White  \n",
       "\n",
       "[3 rows x 28 columns]"
      ]
     },
     "execution_count": 10,
     "metadata": {},
     "output_type": "execute_result"
    }
   ],
   "source": [
    "X_train.head(3)"
   ]
  },
  {
   "cell_type": "code",
   "execution_count": 11,
   "metadata": {},
   "outputs": [],
   "source": [
    "pipeline_pre_processing = PreprocessingPipeline()\n",
    "X_train = pipeline_pre_processing.fit_transform(X_train)"
   ]
  },
  {
   "cell_type": "code",
   "execution_count": 12,
   "metadata": {},
   "outputs": [
    {
     "data": {
      "text/plain": [
       "Index(['Patient age at treatment', 'Total number of previous IVF cycles',\n",
       "       'Total number of previous pregnancies - IVF and DI',\n",
       "       'Total number of previous live births - IVF or DI',\n",
       "       'Causes of infertility - tubal disease',\n",
       "       'Causes of infertility - ovulatory disorder',\n",
       "       'Causes of infertility - male factor',\n",
       "       'Causes of infertility - patient unexplained',\n",
       "       'Causes of infertility - endometriosis', 'Patient/Egg provider age',\n",
       "       'Partner/Sperm provider age', 'Specific treatment type',\n",
       "       'PGT-M treatment', 'PGT-A treatment', 'Elective single embryo transfer',\n",
       "       'Egg source', 'Sperm source', 'Fresh eggs collected',\n",
       "       'Total embryos created', 'Embryos transferred', 'Total embryos thawed',\n",
       "       'Embryos transferred from eggs micro-injected',\n",
       "       'Date of embryo transfer', 'Patient ethnicity'],\n",
       "      dtype='object')"
      ]
     },
     "execution_count": 12,
     "metadata": {},
     "output_type": "execute_result"
    }
   ],
   "source": [
    "X_train.columns"
   ]
  },
  {
   "cell_type": "code",
   "execution_count": 13,
   "metadata": {},
   "outputs": [
    {
     "data": {
      "text/html": [
       "<div>\n",
       "<style scoped>\n",
       "    .dataframe tbody tr th:only-of-type {\n",
       "        vertical-align: middle;\n",
       "    }\n",
       "\n",
       "    .dataframe tbody tr th {\n",
       "        vertical-align: top;\n",
       "    }\n",
       "\n",
       "    .dataframe thead th {\n",
       "        text-align: right;\n",
       "    }\n",
       "</style>\n",
       "<table border=\"1\" class=\"dataframe\">\n",
       "  <thead>\n",
       "    <tr style=\"text-align: right;\">\n",
       "      <th></th>\n",
       "      <th>Patient age at treatment</th>\n",
       "      <th>Total number of previous IVF cycles</th>\n",
       "      <th>Total number of previous pregnancies - IVF and DI</th>\n",
       "      <th>Total number of previous live births - IVF or DI</th>\n",
       "      <th>Causes of infertility - tubal disease</th>\n",
       "      <th>Causes of infertility - ovulatory disorder</th>\n",
       "      <th>Causes of infertility - male factor</th>\n",
       "      <th>Causes of infertility - patient unexplained</th>\n",
       "      <th>Causes of infertility - endometriosis</th>\n",
       "      <th>Patient/Egg provider age</th>\n",
       "      <th>...</th>\n",
       "      <th>Elective single embryo transfer</th>\n",
       "      <th>Egg source</th>\n",
       "      <th>Sperm source</th>\n",
       "      <th>Fresh eggs collected</th>\n",
       "      <th>Total embryos created</th>\n",
       "      <th>Embryos transferred</th>\n",
       "      <th>Total embryos thawed</th>\n",
       "      <th>Embryos transferred from eggs micro-injected</th>\n",
       "      <th>Date of embryo transfer</th>\n",
       "      <th>Patient ethnicity</th>\n",
       "    </tr>\n",
       "  </thead>\n",
       "  <tbody>\n",
       "    <tr>\n",
       "      <th>37915</th>\n",
       "      <td>0.0</td>\n",
       "      <td>4.0</td>\n",
       "      <td>1</td>\n",
       "      <td>1</td>\n",
       "      <td>0</td>\n",
       "      <td>1</td>\n",
       "      <td>1</td>\n",
       "      <td>0</td>\n",
       "      <td>0</td>\n",
       "      <td>0.0</td>\n",
       "      <td>...</td>\n",
       "      <td>1</td>\n",
       "      <td>0</td>\n",
       "      <td>0</td>\n",
       "      <td>1.0</td>\n",
       "      <td>1.0</td>\n",
       "      <td>2.0</td>\n",
       "      <td>2.0</td>\n",
       "      <td>1</td>\n",
       "      <td>0</td>\n",
       "      <td>0</td>\n",
       "    </tr>\n",
       "    <tr>\n",
       "      <th>112081</th>\n",
       "      <td>0.0</td>\n",
       "      <td>1.0</td>\n",
       "      <td>0</td>\n",
       "      <td>0</td>\n",
       "      <td>0</td>\n",
       "      <td>0</td>\n",
       "      <td>0</td>\n",
       "      <td>0</td>\n",
       "      <td>0</td>\n",
       "      <td>0.0</td>\n",
       "      <td>...</td>\n",
       "      <td>1</td>\n",
       "      <td>0</td>\n",
       "      <td>1</td>\n",
       "      <td>4.0</td>\n",
       "      <td>3.0</td>\n",
       "      <td>2.0</td>\n",
       "      <td>0.0</td>\n",
       "      <td>0</td>\n",
       "      <td>1</td>\n",
       "      <td>1</td>\n",
       "    </tr>\n",
       "    <tr>\n",
       "      <th>83821</th>\n",
       "      <td>0.0</td>\n",
       "      <td>0.0</td>\n",
       "      <td>0</td>\n",
       "      <td>0</td>\n",
       "      <td>0</td>\n",
       "      <td>0</td>\n",
       "      <td>1</td>\n",
       "      <td>0</td>\n",
       "      <td>0</td>\n",
       "      <td>0.0</td>\n",
       "      <td>...</td>\n",
       "      <td>0</td>\n",
       "      <td>0</td>\n",
       "      <td>0</td>\n",
       "      <td>3.0</td>\n",
       "      <td>2.0</td>\n",
       "      <td>3.0</td>\n",
       "      <td>0.0</td>\n",
       "      <td>2</td>\n",
       "      <td>2</td>\n",
       "      <td>1</td>\n",
       "    </tr>\n",
       "  </tbody>\n",
       "</table>\n",
       "<p>3 rows × 24 columns</p>\n",
       "</div>"
      ],
      "text/plain": [
       "        Patient age at treatment  Total number of previous IVF cycles  \\\n",
       "37915                        0.0                                  4.0   \n",
       "112081                       0.0                                  1.0   \n",
       "83821                        0.0                                  0.0   \n",
       "\n",
       "        Total number of previous pregnancies - IVF and DI  \\\n",
       "37915                                                   1   \n",
       "112081                                                  0   \n",
       "83821                                                   0   \n",
       "\n",
       "        Total number of previous live births - IVF or DI  \\\n",
       "37915                                                  1   \n",
       "112081                                                 0   \n",
       "83821                                                  0   \n",
       "\n",
       "        Causes of infertility - tubal disease  \\\n",
       "37915                                       0   \n",
       "112081                                      0   \n",
       "83821                                       0   \n",
       "\n",
       "        Causes of infertility - ovulatory disorder  \\\n",
       "37915                                            1   \n",
       "112081                                           0   \n",
       "83821                                            0   \n",
       "\n",
       "        Causes of infertility - male factor  \\\n",
       "37915                                     1   \n",
       "112081                                    0   \n",
       "83821                                     1   \n",
       "\n",
       "        Causes of infertility - patient unexplained  \\\n",
       "37915                                             0   \n",
       "112081                                            0   \n",
       "83821                                             0   \n",
       "\n",
       "        Causes of infertility - endometriosis  Patient/Egg provider age  ...  \\\n",
       "37915                                       0                       0.0  ...   \n",
       "112081                                      0                       0.0  ...   \n",
       "83821                                       0                       0.0  ...   \n",
       "\n",
       "        Elective single embryo transfer  Egg source  Sperm source  \\\n",
       "37915                                 1           0             0   \n",
       "112081                                1           0             1   \n",
       "83821                                 0           0             0   \n",
       "\n",
       "        Fresh eggs collected  Total embryos created  Embryos transferred  \\\n",
       "37915                    1.0                    1.0                  2.0   \n",
       "112081                   4.0                    3.0                  2.0   \n",
       "83821                    3.0                    2.0                  3.0   \n",
       "\n",
       "        Total embryos thawed  Embryos transferred from eggs micro-injected  \\\n",
       "37915                    2.0                                             1   \n",
       "112081                   0.0                                             0   \n",
       "83821                    0.0                                             2   \n",
       "\n",
       "        Date of embryo transfer  Patient ethnicity  \n",
       "37915                         0                  0  \n",
       "112081                        1                  1  \n",
       "83821                         2                  1  \n",
       "\n",
       "[3 rows x 24 columns]"
      ]
     },
     "execution_count": 13,
     "metadata": {},
     "output_type": "execute_result"
    }
   ],
   "source": [
    "X_train.head(3)"
   ]
  },
  {
   "cell_type": "markdown",
   "metadata": {},
   "source": [
    "Apply the pipeline to the test set"
   ]
  },
  {
   "cell_type": "code",
   "execution_count": 14,
   "metadata": {},
   "outputs": [],
   "source": [
    "X_test = pipeline_pre_processing.transform(X_test)"
   ]
  },
  {
   "cell_type": "code",
   "execution_count": 15,
   "metadata": {},
   "outputs": [
    {
     "name": "stdout",
     "output_type": "stream",
     "text": [
      "(108556, 24) (108556,) (27139, 24) (27139,)\n"
     ]
    }
   ],
   "source": [
    "print(X_train.shape, y_train.shape, X_test.shape, y_test.shape)"
   ]
  },
  {
   "cell_type": "markdown",
   "metadata": {},
   "source": [
    "Check Train Set Target distribution"
   ]
  },
  {
   "cell_type": "code",
   "execution_count": 16,
   "metadata": {},
   "outputs": [
    {
     "name": "stdout",
     "output_type": "stream",
     "text": [
      "0    77581\n",
      "1    30975\n",
      "Name: Live birth occurrence, dtype: int64\n"
     ]
    },
    {
     "data": {
      "image/png": "[encoded data removed]",
      "text/plain": [
       "<Figure size 640x480 with 1 Axes>"
      ]
     },
     "metadata": {},
     "output_type": "display_data"
    }
   ],
   "source": [
    "import matplotlib.pyplot as plt\n",
    "import seaborn as sns\n",
    "\n",
    "print(y_train.value_counts())\n",
    "\n",
    "sns.set_style(\"whitegrid\")\n",
    "y_train.value_counts().plot(kind=\"bar\", title=\"Train Set Target Distribution\")\n",
    "plt.show()"
   ]
  },
  {
   "cell_type": "markdown",
   "metadata": {},
   "source": [
    "## Handle Target Imbalance"
   ]
  },
  {
   "cell_type": "markdown",
   "metadata": {},
   "source": [
    "### Use RandomUnderSampler to balance Train Set target"
   ]
  },
  {
   "cell_type": "markdown",
   "metadata": {},
   "source": [
    "Various strategies were tested to address target imbalance in the dataset (for more details, prease refer to the [README file](https://github.com/pswhdev/ivf-predictor/blob/main/README.md)). Given the large dataset size and the comparable performance of oversampling (SMOTE) and undersampling (RandomUnderSampler), RandomUnderSampler was chosen to handle imbalance for the ensemble ML model."
   ]
  },
  {
   "cell_type": "code",
   "execution_count": 17,
   "metadata": {},
   "outputs": [
    {
     "name": "stdout",
     "output_type": "stream",
     "text": [
      "(61950, 24) (61950,) (27139, 24) (27139,)\n"
     ]
    }
   ],
   "source": [
    "from imblearn.under_sampling import RandomUnderSampler\n",
    "\n",
    "undersample = RandomUnderSampler(sampling_strategy='majority', random_state=0)\n",
    "X_train, y_train = undersample.fit_resample(X_train, y_train)\n",
    "\n",
    "print(X_train.shape, y_train.shape, X_test.shape, y_test.shape)"
   ]
  },
  {
   "cell_type": "markdown",
   "metadata": {},
   "source": [
    "Check Train Set Target distribution after resampling"
   ]
  },
  {
   "cell_type": "code",
   "execution_count": 18,
   "metadata": {},
   "outputs": [
    {
     "name": "stdout",
     "output_type": "stream",
     "text": [
      "0    30975\n",
      "1    30975\n",
      "Name: Live birth occurrence, dtype: int64\n"
     ]
    },
    {
     "data": {
      "image/png": "[encoded data removed]",
      "text/plain": [
       "<Figure size 640x480 with 1 Axes>"
      ]
     },
     "metadata": {},
     "output_type": "display_data"
    }
   ],
   "source": [
    "import matplotlib.pyplot as plt\n",
    "\n",
    "print(y_train.value_counts())\n",
    "\n",
    "y_train.value_counts().plot(kind='bar', title='Train Set Target Distribution')\n",
    "plt.show()"
   ]
  },
  {
   "cell_type": "markdown",
   "metadata": {},
   "source": [
    "## Grid Search CV - Sklearn"
   ]
  },
  {
   "cell_type": "markdown",
   "metadata": {},
   "source": [
    "### Use standard hyperparameters to find most suitable algorithm "
   ]
  },
  {
   "cell_type": "markdown",
   "metadata": {},
   "source": [
    "Set Up the Models and Parameters"
   ]
  },
  {
   "cell_type": "code",
   "execution_count": 19,
   "metadata": {},
   "outputs": [],
   "source": [
    "models_quick_search = {\n",
    "    \"LogisticRegression\": LogisticRegression(random_state=0),\n",
    "    \"XGBClassifier\": XGBClassifier(random_state=0),\n",
    "    \"DecisionTreeClassifier\": DecisionTreeClassifier(random_state=0),\n",
    "    \"RandomForestClassifier\": RandomForestClassifier(random_state=0),\n",
    "    \"GradientBoostingClassifier\": GradientBoostingClassifier(random_state=0),\n",
    "    \"ExtraTreesClassifier\": ExtraTreesClassifier(random_state=0),\n",
    "    \"AdaBoostClassifier\": AdaBoostClassifier(random_state=0),\n",
    "}\n",
    "\n",
    "params_quick_search = {\n",
    "    \"LogisticRegression\": {},\n",
    "    \"XGBClassifier\": {},\n",
    "    \"DecisionTreeClassifier\": {},\n",
    "    \"RandomForestClassifier\": {},\n",
    "    \"GradientBoostingClassifier\": {},\n",
    "    \"ExtraTreesClassifier\": {},\n",
    "    \"AdaBoostClassifier\": {},\n",
    "}"
   ]
  },
  {
   "cell_type": "markdown",
   "metadata": {},
   "source": [
    "Define the custom scoring metrics"
   ]
  },
  {
   "cell_type": "code",
   "execution_count": 20,
   "metadata": {},
   "outputs": [],
   "source": [
    "from sklearn.metrics import make_scorer, accuracy_score, recall_score, precision_score, f1_score, matthews_corrcoef, confusion_matrix\n",
    "\n",
    "def specificity_score(y_true, y_pred):\n",
    "    tn, fp, fn, tp = confusion_matrix(y_true, y_pred).ravel()\n",
    "    return tn / (tn + fp)\n",
    "\n",
    "def npv_score(y_true, y_pred):\n",
    "    tn, fp, fn, tp = confusion_matrix(y_true, y_pred).ravel()\n",
    "    return tn / (tn + fn)\n",
    "\n",
    "# Dictionary of all the metrics\n",
    "scoring = {\n",
    "    'accuracy': make_scorer(accuracy_score),\n",
    "    'recall': make_scorer(recall_score, pos_label=0),\n",
    "    'specificity': make_scorer(specificity_score),\n",
    "    'precision': make_scorer(precision_score, pos_label=1),\n",
    "    'npv': make_scorer(npv_score),\n",
    "    'mcc': make_scorer(matthews_corrcoef),\n",
    "    'f1': make_scorer(f1_score, pos_label=1)\n",
    "}"
   ]
  },
  {
   "cell_type": "markdown",
   "metadata": {},
   "source": [
    "Quick GridSearch CV - Binary Classifier"
   ]
  },
  {
   "cell_type": "code",
   "execution_count": 21,
   "metadata": {},
   "outputs": [
    {
     "name": "stdout",
     "output_type": "stream",
     "text": [
      "\n",
      "Running GridSearchCV for LogisticRegression with 0 parameter combinations.\n",
      "\n",
      "Fitting 5 folds for each of 1 candidates, totalling 5 fits\n",
      "\n",
      "Running GridSearchCV for XGBClassifier with 0 parameter combinations.\n",
      "\n",
      "Fitting 5 folds for each of 1 candidates, totalling 5 fits\n",
      "\n",
      "Running GridSearchCV for DecisionTreeClassifier with 0 parameter combinations.\n",
      "\n",
      "Fitting 5 folds for each of 1 candidates, totalling 5 fits\n",
      "\n",
      "Running GridSearchCV for RandomForestClassifier with 0 parameter combinations.\n",
      "\n",
      "Fitting 5 folds for each of 1 candidates, totalling 5 fits\n"
     ]
    }
   ],
   "source": [
    "search = HyperparameterOptimizationSearch(models=models_quick_search, params=params_quick_search)\n",
    "\n",
    "search.fit(X_train, y_train, cv=5, n_jobs=-1, scoring=scoring, refit='f1')"
   ]
  },
  {
   "cell_type": "markdown",
   "metadata": {},
   "source": [
    "Check results"
   ]
  },
  {
   "cell_type": "code",
   "execution_count": null,
   "metadata": {},
   "outputs": [],
   "source": [
    "# Get the results and sort by the F1 score\n",
    "grid_search_summary, grid_search_pipelines = search.score_summary(sort_by='f1', scoring=scoring)\n",
    "grid_search_summary\n"
   ]
  },
  {
   "cell_type": "markdown",
   "metadata": {},
   "source": [
    "### Perform extensive search on the most suitable algorithm to find the best hyperparameter configuration using GridSearchCV"
   ]
  },
  {
   "cell_type": "markdown",
   "metadata": {},
   "source": [
    "Define model and parameters, for Extensive Search"
   ]
  },
  {
   "cell_type": "code",
   "execution_count": null,
   "metadata": {},
   "outputs": [],
   "source": [
    "models_search = {\n",
    "    'GradientBoostingClassifier': GradientBoostingClassifier (),\n",
    "}\n",
    "\n",
    "params_search = {\n",
    "    'GradientBoostingClassifier': {\n",
    "        # 'model__n_estimators': [100, 200, 300],\n",
    "        # 'model__learning_rate': [0.01, 0.05, 0.1],\n",
    "        # 'model__max_depth': [3, 4, 5],\n",
    "        # 'model__subsample': [0.8, 0.9, 1.0],\n",
    "        # 'model__min_samples_split': [2, 5, 10],\n",
    "        # 'model__max_features': [None, 'sqrt', 'log2']\n",
    "    }\n",
    "}"
   ]
  },
  {
   "cell_type": "markdown",
   "metadata": {},
   "source": [
    "Extensive GridSearch CV - Binary Classifier"
   ]
  },
  {
   "cell_type": "code",
   "execution_count": null,
   "metadata": {},
   "outputs": [],
   "source": [
    "print(y_train.value_counts())\n",
    "\n",
    "search = HyperparameterOptimizationSearch(models=models_search, params=params_search)\n",
    "search.fit(X_train, y_train, cv=5, n_jobs=-1, scoring=scoring, refit='f1')"
   ]
  },
  {
   "cell_type": "markdown",
   "metadata": {},
   "source": [
    "Check results"
   ]
  },
  {
   "cell_type": "code",
   "execution_count": null,
   "metadata": {},
   "outputs": [],
   "source": [
    "grid_search_summary, grid_search_pipelines = search.score_summary(sort_by='f1', scoring=scoring)\n",
    "grid_search_summary "
   ]
  },
  {
   "cell_type": "markdown",
   "metadata": {},
   "source": [
    "Get best model name programmatically"
   ]
  },
  {
   "cell_type": "code",
   "execution_count": null,
   "metadata": {},
   "outputs": [],
   "source": [
    "best_model = grid_search_summary.iloc[0,0]\n",
    "best_model"
   ]
  },
  {
   "cell_type": "markdown",
   "metadata": {},
   "source": [
    "Parameters for best model"
   ]
  },
  {
   "cell_type": "code",
   "execution_count": null,
   "metadata": {},
   "outputs": [],
   "source": [
    "best_parameters = grid_search_pipelines[best_model].best_params_\n",
    "best_parameters"
   ]
  },
  {
   "cell_type": "markdown",
   "metadata": {},
   "source": [
    "Define the best clf pipeline"
   ]
  },
  {
   "cell_type": "code",
   "execution_count": null,
   "metadata": {},
   "outputs": [],
   "source": [
    "pipeline_clf = grid_search_pipelines[best_model].best_estimator_\n",
    "pipeline_clf"
   ]
  },
  {
   "cell_type": "markdown",
   "metadata": {},
   "source": [
    "## Assess feature importance"
   ]
  },
  {
   "cell_type": "code",
   "execution_count": null,
   "metadata": {},
   "outputs": [],
   "source": [
    "X_train.head(3)"
   ]
  },
  {
   "cell_type": "markdown",
   "metadata": {},
   "source": [
    "Assess feature importance on the current model with `.features_importances_`"
   ]
  },
  {
   "cell_type": "code",
   "execution_count": null,
   "metadata": {},
   "outputs": [],
   "source": [
    "# create DataFrame to display feature importance\n",
    "df_feature_importance = pd.DataFrame(\n",
    "    data={\n",
    "        \"Feature\": X_train.columns[pipeline_clf[\"feat_selection\"].get_support()],\n",
    "        \"Importance\": pipeline_clf[\"model\"].feature_importances_,\n",
    "    }\n",
    ").sort_values(by=\"Importance\", ascending=False)\n",
    "\n",
    "# re-assign best_features order\n",
    "best_features = df_feature_importance[\"Feature\"].to_list()\n",
    "\n",
    "# Most important features statement and plot\n",
    "print(\n",
    "    f\"* These are the {len(best_features)} most important features in descending order. \"\n",
    "    f\"The model was trained on them: \\n{df_feature_importance['Feature'].to_list()}\"\n",
    ")\n",
    "\n",
    "df_feature_importance.plot(kind=\"bar\", x=\"Feature\", y=\"Importance\")\n",
    "plt.show()"
   ]
  },
  {
   "cell_type": "markdown",
   "metadata": {},
   "source": [
    "## Evaluate Pipeline on Train and Test Sets"
   ]
  },
  {
   "cell_type": "code",
   "execution_count": null,
   "metadata": {},
   "outputs": [],
   "source": [
    "from sklearn.metrics import classification_report, confusion_matrix\n",
    "import pandas as pd\n",
    "\n",
    "def confusion_matrix_and_report(X, y, pipeline, label_map):\n",
    "    # Make predictions using the pipeline\n",
    "    prediction = pipeline.predict(X)\n",
    "\n",
    "    print(\"---  Confusion Matrix  ---\")\n",
    "    print(\n",
    "        pd.DataFrame(\n",
    "            confusion_matrix(y_true=y, y_pred=prediction),\n",
    "            columns=[\"Actual \" + label for label in label_map],\n",
    "            index=[\"Prediction \" + label for label in label_map]\n",
    "        )\n",
    "    )\n",
    "    print(\"\\n\")\n",
    "\n",
    "    # Print classification report\n",
    "    print(\"---  Classification Report  ---\")\n",
    "    print(classification_report(y, prediction, target_names=label_map), \"\\n\")\n",
    "\n",
    "def clf_performance(X_train, y_train, X_test, y_test, pipeline, label_map):\n",
    "    # Evaluate performance on the training set\n",
    "    print(\"#### Train Set #### \\n\")\n",
    "    confusion_matrix_and_report(X_train, y_train, pipeline, label_map)\n",
    "\n",
    "    # Evaluate performance on the test set\n",
    "    print(\"#### Test Set ####\\n\")\n",
    "    confusion_matrix_and_report(X_test, y_test, pipeline, label_map)\n"
   ]
  },
  {
   "cell_type": "markdown",
   "metadata": {},
   "source": [
    "Evaluation:"
   ]
  },
  {
   "cell_type": "code",
   "execution_count": null,
   "metadata": {},
   "outputs": [],
   "source": [
    "clf_performance(X_train=X_train, y_train=y_train,\n",
    "                X_test=X_test, y_test=y_test,\n",
    "                pipeline=pipeline_clf,\n",
    "                label_map= ['No Success', 'Success'] \n",
    "                )"
   ]
  },
  {
   "cell_type": "markdown",
   "metadata": {},
   "source": [
    "---"
   ]
  },
  {
   "cell_type": "markdown",
   "metadata": {},
   "source": [
    "## Refit pipeline with best features"
   ]
  },
  {
   "cell_type": "markdown",
   "metadata": {},
   "source": [
    "### Refit ML Pipeline and Resampling"
   ]
  },
  {
   "cell_type": "markdown",
   "metadata": {},
   "source": [
    "### Rewrite ML pipeline for Data Cleaning and Feature Engineering"
   ]
  },
  {
   "cell_type": "code",
   "execution_count": null,
   "metadata": {},
   "outputs": [],
   "source": [
    "best_features "
   ]
  },
  {
   "cell_type": "markdown",
   "metadata": {},
   "source": [
    "#### Reassign best features names"
   ]
  },
  {
   "cell_type": "markdown",
   "metadata": {},
   "source": [
    "One hot encoding create new columns and appends the value after the name as `_<value>`.\n",
    "Therefore it is necessary to rename the features to the original name, so when the pipeline is excecuted, it will find the correct columns on the dataframe."
   ]
  },
  {
   "cell_type": "code",
   "execution_count": null,
   "metadata": {},
   "outputs": [],
   "source": [
    "import re\n",
    "\n",
    "def reassign_best_features(features):\n",
    "    \"\"\"\n",
    "    Reassigns encoded feature names to their original names by removing any suffixes added by one-hot encoding.\n",
    "    \"\"\"\n",
    "    # Use regex to remove the \"_<value>\" suffix from feature names\n",
    "    reassigned_best_features = [re.sub(r'_[^_]+$', '', feature) for feature in features]\n",
    "    # Filter out duplicate values from the reassigned features list\n",
    "    unique_reassigned_best_features = list(set(reassigned_best_features))\n",
    "\n",
    "    return unique_reassigned_best_features\n",
    "\n",
    "reassigned_best_features = reassign_best_features(best_features)\n",
    "reassigned_best_features\n"
   ]
  },
  {
   "cell_type": "markdown",
   "metadata": {},
   "source": [
    "### Split Train Test Set"
   ]
  },
  {
   "cell_type": "code",
   "execution_count": null,
   "metadata": {},
   "outputs": [],
   "source": [
    "from sklearn.model_selection import train_test_split\n",
    "X_train, X_test, y_train, y_test = train_test_split(\n",
    "    df.drop(['Live birth occurrence'], axis=1),\n",
    "    df['Live birth occurrence'],\n",
    "    test_size=0.2,\n",
    "    random_state=0,\n",
    ")\n",
    "\n",
    "print(X_train.shape, y_train.shape, X_test.shape, y_test.shape)"
   ]
  },
  {
   "cell_type": "markdown",
   "metadata": {},
   "source": [
    "New Pipeline for Feature Engineering considering only the best features and without Smart Correlation (manually entered)."
   ]
  },
  {
   "cell_type": "code",
   "execution_count": null,
   "metadata": {},
   "outputs": [],
   "source": [
    "from sklearn.pipeline import Pipeline\n",
    "from feature_engine.encoding import OrdinalEncoder\n",
    "from src.custom_transformers import OrdinalEncoderWithCategories\n",
    "\n",
    "\n",
    "# Define the correct order for each feature\n",
    "categories = [\n",
    "    [\"18-34\", \"35-37\", \"38-39\", \"40-42\", \"43-44\", \"45-50\"],  # Patient age at treatment\n",
    "    [\"0\", \"1\", \"2\", \"3\", \"4\", \"5\", \">5\"],  # Total number of previous IVF cycles\n",
    "    [\"18-34\", \"35-37\", \"38-39\", \"40-42\", \"43-44\", \"45-50\"],  # Patient/Egg provider age\n",
    "    [\n",
    "        \"18-34\",\n",
    "        \"35-37\",\n",
    "        \"38-39\",\n",
    "        \"40-42\",\n",
    "        \"43-44\",\n",
    "        \"45-50\",\n",
    "        \"51-55\",\n",
    "        \"56-60\",\n",
    "        \">60\",\n",
    "    ],  # Partner/Sperm provider age\n",
    "    [\n",
    "        \"0\",\n",
    "        \"0 - frozen cycle\",\n",
    "        \"1-5\",\n",
    "        \"6-10\",\n",
    "        \"11-15\",\n",
    "        \"16-20\",\n",
    "        \"21-25\",\n",
    "        \"26-30\",\n",
    "        \"31-35\",\n",
    "        \"36-40\",\n",
    "        \">40\",\n",
    "    ],  # Fresh eggs collected\n",
    "    [\n",
    "        \"0\",\n",
    "        \"0 - frozen cycle\",\n",
    "        \"1-5\",\n",
    "        \"6-10\",\n",
    "        \"11-15\",\n",
    "        \"16-20\",\n",
    "        \"21-25\",\n",
    "        \"26-30\",\n",
    "        \"31-35\",\n",
    "        \"36-40\",\n",
    "        \">40\",\n",
    "    ],  # Total eggs mixed\n",
    "    [\n",
    "        \"0\",\n",
    "        \"0 - frozen cycle\",\n",
    "        \"1-5\",\n",
    "        \"6-10\",\n",
    "        \"11-15\",\n",
    "        \"16-20\",\n",
    "        \"21-25\",\n",
    "        \"26-30\",\n",
    "        \">30\",\n",
    "    ],  # Total embryos created\n",
    "    [\"0\", \"1\", \"1e\", \"2\", \"3\"],  # Embryos transferred\n",
    "    [\n",
    "        \"0 - fresh cycle\",\n",
    "        \"0 - frozen cycle\",\n",
    "        \"1-5\",\n",
    "        \"6-10\",\n",
    "        \">10\",\n",
    "    ],  # Total embryos thawed\n",
    "]\n",
    "\n",
    "# Define columns that need ordinal encoding\n",
    "ordinal_columns = [\n",
    "    \"Patient age at treatment\",\n",
    "    \"Total number of previous IVF cycles\",\n",
    "    \"Patient/Egg provider age\",\n",
    "    \"Partner/Sperm provider age\",\n",
    "    \"Fresh eggs collected\",\n",
    "    \"Total eggs mixed\",\n",
    "    \"Total embryos created\",\n",
    "    \"Embryos transferred\",\n",
    "    \"Total embryos thawed\",\n",
    "]\n",
    "\n",
    "\n",
    "def PreprocessingPipeline():\n",
    "    pipeline_base = Pipeline(\n",
    "        [\n",
    "            (\n",
    "                \"ordinal_encoding\",\n",
    "                OrdinalEncoderWithCategories(\n",
    "                    categories=categories, columns=ordinal_columns\n",
    "                ),\n",
    "            ),\n",
    "            (\n",
    "                \"ordinal_encoding_arbitrary\",\n",
    "                OrdinalEncoder(\n",
    "                    encoding_method ='arbitrary',\n",
    "                    variables=[\n",
    "                        \"Specific treatment type\",\n",
    "                        \"Egg source\",\n",
    "                        \"Sperm source\",\n",
    "                        \"Patient ethnicity\",\n",
    "                        \"Date of embryo transfer\",\n",
    "                    ],\n",
    "                ),\n",
    "            ),\n",
    "            # No need for smart correlation, since best features are already selected\n",
    "        ]\n",
    "    )\n",
    "\n",
    "    return pipeline_base\n",
    "\n",
    "\n",
    "pipeline_pre_processing = PreprocessingPipeline()\n",
    "pipeline_pre_processing"
   ]
  },
  {
   "cell_type": "markdown",
   "metadata": {},
   "source": [
    "### Rewrite ML Pipeline for Modelling"
   ]
  },
  {
   "cell_type": "markdown",
   "metadata": {},
   "source": [
    "Function for Pipeline optmisation"
   ]
  },
  {
   "cell_type": "code",
   "execution_count": null,
   "metadata": {},
   "outputs": [],
   "source": [
    "# Pipeline Optmization: Model\n",
    "def PipelineClf(model):\n",
    "    pipeline_base = Pipeline([\n",
    "        (\"scaler\", StandardScaler()),\n",
    "        # no feature selection needed anymore since it is already known which features to use\n",
    "        (\"model\", model),\n",
    "    ])\n",
    "\n",
    "    return pipeline_base"
   ]
  },
  {
   "cell_type": "markdown",
   "metadata": {},
   "source": [
    "Filter only the most important variables"
   ]
  },
  {
   "cell_type": "code",
   "execution_count": null,
   "metadata": {},
   "outputs": [],
   "source": [
    "X_train = X_train.filter(reassigned_best_features)\n",
    "X_test = X_test.filter(reassigned_best_features)"
   ]
  },
  {
   "cell_type": "code",
   "execution_count": null,
   "metadata": {},
   "outputs": [],
   "source": [
    "# Apply the prerpocessing pipeline\n",
    "X_train = pipeline_pre_processing.fit_transform(X_train)\n",
    "\n",
    "print(X_train.shape, y_train.shape, X_test.shape, y_test.shape)\n",
    "X_train.head(3)"
   ]
  },
  {
   "cell_type": "markdown",
   "metadata": {},
   "source": [
    "Apply the data cleaning and feature engineering pipeline"
   ]
  },
  {
   "cell_type": "markdown",
   "metadata": {},
   "source": [
    "Apply the pipeline to the test set"
   ]
  },
  {
   "cell_type": "code",
   "execution_count": null,
   "metadata": {},
   "outputs": [],
   "source": [
    "X_test = pipeline_pre_processing.transform(X_test)"
   ]
  },
  {
   "cell_type": "markdown",
   "metadata": {},
   "source": [
    "Check Train Set Target distribution"
   ]
  },
  {
   "cell_type": "code",
   "execution_count": null,
   "metadata": {},
   "outputs": [],
   "source": [
    "import matplotlib.pyplot as plt\n",
    "import seaborn as sns\n",
    "\n",
    "print(y_train.value_counts())\n",
    "\n",
    "sns.set_style(\"whitegrid\")\n",
    "y_train.value_counts().plot(kind=\"bar\", title=\"Train Set Target Distribution\")\n",
    "plt.show()"
   ]
  },
  {
   "cell_type": "markdown",
   "metadata": {},
   "source": [
    "### Handle Target Imbalance"
   ]
  },
  {
   "cell_type": "markdown",
   "metadata": {},
   "source": [
    "Rebalance Train Set target"
   ]
  },
  {
   "cell_type": "code",
   "execution_count": null,
   "metadata": {},
   "outputs": [],
   "source": [
    "print(\"Data types of transformed X_train:\")\n",
    "print(X_train.dtypes)\n",
    "print(X_train.head(3))"
   ]
  },
  {
   "cell_type": "code",
   "execution_count": null,
   "metadata": {},
   "outputs": [],
   "source": [
    "from imblearn.under_sampling import RandomUnderSampler\n",
    "\n",
    "undersample = RandomUnderSampler(sampling_strategy='majority', random_state=0)\n",
    "X_train, y_train = undersample.fit_resample(X_train, y_train)\n",
    "\n",
    "print(X_train.shape, y_train.shape, X_test.shape, y_test.shape)"
   ]
  },
  {
   "cell_type": "markdown",
   "metadata": {},
   "source": [
    "Check Train Set Target distribution after rebalance"
   ]
  },
  {
   "cell_type": "code",
   "execution_count": null,
   "metadata": {},
   "outputs": [],
   "source": [
    "y_train.value_counts().plot(kind='bar',title='Train Set Target Distribution')\n",
    "plt.show()"
   ]
  },
  {
   "cell_type": "markdown",
   "metadata": {},
   "source": [
    "### Grid Search CV: Sklearn"
   ]
  },
  {
   "cell_type": "markdown",
   "metadata": {},
   "source": [
    "Using the most suitable model from the last section and its best hyperparameter configuration."
   ]
  },
  {
   "cell_type": "markdown",
   "metadata": {},
   "source": [
    "We are using the same model from  the last GridCV search"
   ]
  },
  {
   "cell_type": "code",
   "execution_count": null,
   "metadata": {},
   "outputs": [],
   "source": [
    "models_search "
   ]
  },
  {
   "cell_type": "markdown",
   "metadata": {},
   "source": [
    "And the best parameters from the last GridCV search "
   ]
  },
  {
   "cell_type": "code",
   "execution_count": null,
   "metadata": {},
   "outputs": [],
   "source": [
    "best_parameters"
   ]
  },
  {
   "cell_type": "markdown",
   "metadata": {},
   "source": [
    "Manually type in the hyperparameter values have to be a list."
   ]
  },
  {
   "cell_type": "code",
   "execution_count": null,
   "metadata": {},
   "outputs": [],
   "source": [
    "params_search = {\n",
    "    # 'GradientBoostingClassifier': {\n",
    "    #     'model__learning_rate': [],\n",
    "    #     'model__max_depth': [],\n",
    "    #     'model__min_samples_leaf': [],\n",
    "    #     'model__min_samples_split': [],\n",
    "    #     'model__max_features': [],\n",
    "    #     'model__subsample': [],\n",
    "    #     'model__n_estimators': []\n",
    "    # },\n",
    "}\n",
    "params_search"
   ]
  },
  {
   "cell_type": "markdown",
   "metadata": {},
   "source": [
    "GridSearch CV"
   ]
  },
  {
   "cell_type": "code",
   "execution_count": null,
   "metadata": {},
   "outputs": [],
   "source": [
    "search = HyperparameterOptimizationSearch(models=models_search, params=params_search)\n",
    "search.fit(X_train, y_train, cv=5, n_jobs=-1, scoring=scoring, refit=\"f1\")"
   ]
  },
  {
   "cell_type": "markdown",
   "metadata": {},
   "source": [
    "Check results"
   ]
  },
  {
   "cell_type": "code",
   "execution_count": null,
   "metadata": {},
   "outputs": [],
   "source": [
    "grid_search_summary, grid_search_pipelines = search.score_summary(sort_by='f1', scoring=scoring)\n",
    "grid_search_summary"
   ]
  },
  {
   "cell_type": "markdown",
   "metadata": {},
   "source": [
    "Define the best clf pipeline"
   ]
  },
  {
   "cell_type": "code",
   "execution_count": null,
   "metadata": {},
   "outputs": [],
   "source": [
    "best_model = grid_search_summary.iloc[0, 0]\n",
    "pipeline_clf = grid_search_pipelines[best_model].best_estimator_\n",
    "pipeline_clf"
   ]
  },
  {
   "cell_type": "markdown",
   "metadata": {},
   "source": [
    "### Assess feature importance"
   ]
  },
  {
   "cell_type": "code",
   "execution_count": null,
   "metadata": {},
   "outputs": [],
   "source": [
    "import pandas as pd\n",
    "import matplotlib.pyplot as plt\n",
    "import re\n",
    "\n",
    "# Sample data for feature importances\n",
    "new_best_features = X_train.columns\n",
    "df_feature_importance = pd.DataFrame({\n",
    "    'Feature': new_best_features,\n",
    "    'Importance': pipeline_clf['model'].feature_importances_\n",
    "}).sort_values(by='Importance', ascending=False)\n",
    "\n",
    "# Function to reassign features to their original names\n",
    "def reassign_best_features(features):\n",
    "    # Remove one-hot encoded suffixes and return the base names\n",
    "    reassigned_best_features = [re.sub(r'_[^_]+$', '', feature) for feature in features]\n",
    "    return reassigned_best_features\n",
    "\n",
    "# Apply the reassignment to create a new list of base feature names\n",
    "df_feature_importance['BaseFeature'] = reassign_best_features(df_feature_importance['Feature'])\n",
    "\n",
    "# Group by the original base feature names and sum the importances\n",
    "aggregated_importances = df_feature_importance.groupby('BaseFeature')['Importance'].sum().reset_index()\n",
    "\n",
    "# Sort the aggregated feature importances in descending order\n",
    "aggregated_importances = aggregated_importances.sort_values(by='Importance', ascending=False)\n",
    "\n",
    "# Print most important features\n",
    "print(f\"* These are the {len(aggregated_importances)} most important features in descending order. \"\n",
    "      f\"The model was trained on them: \\n{aggregated_importances['BaseFeature'].to_list()}\")\n",
    "\n",
    "# Plot the aggregated feature importances\n",
    "aggregated_importances.plot(kind='bar', x='BaseFeature', y='Importance')\n",
    "plt.title('Aggregated Feature Importances')\n",
    "plt.xlabel('Features')\n",
    "plt.ylabel('Importance')\n",
    "plt.show()\n"
   ]
  },
  {
   "cell_type": "markdown",
   "metadata": {},
   "source": [
    "### Evaluate Pipeline on Train and Test Sets"
   ]
  },
  {
   "cell_type": "markdown",
   "metadata": {},
   "source": [
    "Evaluation: We cross-check with metrics defined in the ML business case.\n",
    "* 70% Recall for No Success, on train and test set.\n",
    "* 70% Precision for Success on train and test set. "
   ]
  },
  {
   "cell_type": "code",
   "execution_count": null,
   "metadata": {},
   "outputs": [],
   "source": [
    "clf_performance(X_train=X_train, y_train=y_train,\n",
    "                X_test=X_test, y_test=y_test,\n",
    "                pipeline=pipeline_clf,\n",
    "                label_map= ['No Success', 'Success'] \n",
    "                )"
   ]
  },
  {
   "cell_type": "markdown",
   "metadata": {},
   "source": [
    "## Push files to Repo"
   ]
  },
  {
   "cell_type": "markdown",
   "metadata": {},
   "source": [
    "Generate the following files\n",
    "* Train set\n",
    "* Test set\n",
    "* Data cleaning and Feature Engineering pipeline\n",
    "* Modeling pipeline\n",
    "* features importance plot"
   ]
  },
  {
   "cell_type": "code",
   "execution_count": null,
   "metadata": {},
   "outputs": [],
   "source": [
    "import joblib\n",
    "import os\n",
    "\n",
    "version = 'v1'\n",
    "file_path = f'outputs/ml_pipeline/ivf_success_predictor/{version}'\n",
    "\n",
    "try:\n",
    "    # Check if the directories exist\n",
    "    if os.path.exists(file_path):\n",
    "        print('Old version is already available. Please create a new version.')\n",
    "    else:\n",
    "        # Create the directory if it does not exist\n",
    "        os.makedirs(name=file_path)\n",
    "        print(f\"Directory {file_path} created successfully.\")\n",
    "except Exception as e:\n",
    "    print(f\"An error occurred: {e}\")"
   ]
  },
  {
   "cell_type": "markdown",
   "metadata": {},
   "source": [
    "### Train Set"
   ]
  },
  {
   "cell_type": "markdown",
   "metadata": {},
   "source": [
    "* note that the variables **are transformed already** in X_train after imbalance handling was applied."
   ]
  },
  {
   "cell_type": "code",
   "execution_count": null,
   "metadata": {},
   "outputs": [],
   "source": [
    "print(X_train.shape)\n",
    "X_train.head()"
   ]
  },
  {
   "cell_type": "code",
   "execution_count": null,
   "metadata": {},
   "outputs": [],
   "source": [
    "X_train.to_csv(f\"{file_path}/X_train.csv.gz\", index=False, compression='gzip')"
   ]
  },
  {
   "cell_type": "code",
   "execution_count": null,
   "metadata": {},
   "outputs": [],
   "source": [
    "y_train"
   ]
  },
  {
   "cell_type": "code",
   "execution_count": null,
   "metadata": {},
   "outputs": [],
   "source": [
    "y_train.to_csv(f\"{file_path}/y_train.csv.gz\", index=False, compression='gzip')"
   ]
  },
  {
   "cell_type": "markdown",
   "metadata": {},
   "source": [
    "### Test Set"
   ]
  },
  {
   "cell_type": "markdown",
   "metadata": {},
   "source": [
    "* note that the variables are transformed already in X_test"
   ]
  },
  {
   "cell_type": "code",
   "execution_count": null,
   "metadata": {},
   "outputs": [],
   "source": [
    "print(X_test.shape)\n",
    "X_test.head()"
   ]
  },
  {
   "cell_type": "code",
   "execution_count": null,
   "metadata": {},
   "outputs": [],
   "source": [
    "X_test.to_csv(f\"{file_path}/X_test.csv.gz\", index=False, compression='gzip')"
   ]
  },
  {
   "cell_type": "code",
   "execution_count": null,
   "metadata": {},
   "outputs": [],
   "source": [
    "y_test"
   ]
  },
  {
   "cell_type": "code",
   "execution_count": null,
   "metadata": {},
   "outputs": [],
   "source": [
    "y_test.to_csv(f\"{file_path}/y_test.csv.gz\", index=False, compression='gzip')"
   ]
  },
  {
   "cell_type": "markdown",
   "metadata": {},
   "source": [
    "#### Save Best features (to be used for generating the widgets on the live predition page)"
   ]
  },
  {
   "cell_type": "code",
   "execution_count": null,
   "metadata": {},
   "outputs": [],
   "source": [
    "reassigned_best_features"
   ]
  },
  {
   "cell_type": "code",
   "execution_count": null,
   "metadata": {},
   "outputs": [],
   "source": [
    "# Create a DataFrame\n",
    "reassigned_best_features_df = pd.DataFrame(reassigned_best_features, columns=['feature']) \n",
    "\n",
    "reassigned_best_features_df = reassigned_best_features_df.drop_duplicates()\n",
    "\n",
    "reassigned_best_features_df.to_csv(f'{file_path}/best_features.csv.gz', index=False, compression='gzip')\n"
   ]
  },
  {
   "cell_type": "markdown",
   "metadata": {},
   "source": [
    "### ML Pipelines: Data Cleaning and Feat Eng pipeline and Modelling Pipeline"
   ]
  },
  {
   "cell_type": "markdown",
   "metadata": {},
   "source": [
    "Both pipelines should be used in conjunction to predict Live Data.\n",
    "\n",
    "* To predict on Train Set, Test Set we use only pipeline_clf, since the data is already processed."
   ]
  },
  {
   "cell_type": "markdown",
   "metadata": {},
   "source": [
    "Pipeline responsible for Data Cleaning and Feature Engineering."
   ]
  },
  {
   "cell_type": "code",
   "execution_count": null,
   "metadata": {},
   "outputs": [],
   "source": [
    "pipeline_pre_processing"
   ]
  },
  {
   "cell_type": "code",
   "execution_count": null,
   "metadata": {},
   "outputs": [],
   "source": [
    "import joblib\n",
    "import gzip\n",
    "\n",
    "with gzip.open(f\"{file_path}/clf_pipeline_pre_processing.pkl.gz\", 'wb') as f_out:\n",
    "    joblib.dump(pipeline_pre_processing, f_out)"
   ]
  },
  {
   "cell_type": "markdown",
   "metadata": {},
   "source": [
    "  Pipeline responsible for Feature Scaling, and Model"
   ]
  },
  {
   "cell_type": "code",
   "execution_count": null,
   "metadata": {},
   "outputs": [],
   "source": [
    "pipeline_clf"
   ]
  },
  {
   "cell_type": "markdown",
   "metadata": {},
   "source": [
    "### Save the model as pkl compressed"
   ]
  },
  {
   "cell_type": "code",
   "execution_count": null,
   "metadata": {},
   "outputs": [],
   "source": [
    "import joblib\n",
    "import gzip\n",
    "\n",
    "# Save the model directly into a compressed gzip file\n",
    "with gzip.open(f\"{file_path}/clf_pipeline_model.pkl.gz\", 'wb') as f_out:\n",
    "    joblib.dump(pipeline_clf, f_out)"
   ]
  },
  {
   "cell_type": "markdown",
   "metadata": {},
   "source": [
    "### Feature Importance plot"
   ]
  },
  {
   "cell_type": "code",
   "execution_count": null,
   "metadata": {},
   "outputs": [],
   "source": [
    "aggregated_importances.plot(kind='bar', x='BaseFeature', y='Importance')\n",
    "plt.title('Feature Importances')\n",
    "plt.xlabel('Features')\n",
    "plt.ylabel('Importance')\n",
    "plt.show()\n"
   ]
  },
  {
   "cell_type": "code",
   "execution_count": null,
   "metadata": {},
   "outputs": [],
   "source": [
    "plt.savefig(f'{file_path}/features_importance.png', bbox_inches='tight')"
   ]
  },
  {
   "cell_type": "markdown",
   "metadata": {},
   "source": [
    "---"
   ]
  }
 ],
 "metadata": {
  "kernelspec": {
   "display_name": "venv",
   "language": "python",
   "name": "python3"
  },
  "language_info": {
   "codemirror_mode": {
    "name": "ipython",
    "version": 3
   },
   "file_extension": ".py",
   "mimetype": "text/x-python",
   "name": "python",
   "nbconvert_exporter": "python",
   "pygments_lexer": "ipython3",
   "version": "3.11.9"
  }
 },
 "nbformat": 4,
 "nbformat_minor": 2
}
