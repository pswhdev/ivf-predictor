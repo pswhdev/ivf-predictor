{
 "cells": [
  {
   "cell_type": "markdown",
   "metadata": {},
   "source": [
    "# Classification"
   ]
  },
  {
   "cell_type": "markdown",
   "metadata": {},
   "source": [
    "## Objectives\n",
    "\n",
    "*   Fit and evaluate a classification model to predict if a treatment will be successful or not.\n",
    "\n",
    "\n",
    "## Inputs\n",
    "\n",
    "* outputs/datasets/collection/FertilityTreatmentData.csv.gz\n",
    "* Instructions from the notebooks 02 and 04 on which variables to use for data cleaning and feature engineering.\n",
    "\n",
    "## Outputs\n",
    "\n",
    "* Train set (features and target)\n",
    "* Test set (features and target)\n",
    "* Data cleaning and Feature Engineering pipeline\n",
    "* Modeling pipeline\n",
    "* Feature importance plot\n"
   ]
  },
  {
   "cell_type": "markdown",
   "metadata": {},
   "source": [
    "---"
   ]
  },
  {
   "cell_type": "markdown",
   "metadata": {},
   "source": [
    "## Change working directory"
   ]
  },
  {
   "cell_type": "markdown",
   "metadata": {},
   "source": [
    "Change the working directory from its current folder to its parent folder\n",
    "* Access the current directory with os.getcwd()"
   ]
  },
  {
   "cell_type": "code",
   "execution_count": null,
   "metadata": {},
   "outputs": [],
   "source": [
    "import os\n",
    "current_dir = os.getcwd()\n",
    "current_dir"
   ]
  },
  {
   "cell_type": "markdown",
   "metadata": {},
   "source": [
    "To make the parent of the current directory the new current directory:\n",
    "* os.path.dirname() gets the parent directory\n",
    "* os.chir() defines the new current directory"
   ]
  },
  {
   "cell_type": "code",
   "execution_count": null,
   "metadata": {},
   "outputs": [],
   "source": [
    "os.chdir(os.path.dirname(current_dir))\n",
    "print(\"A new current directory has been set\")"
   ]
  },
  {
   "cell_type": "markdown",
   "metadata": {},
   "source": [
    "Confirm the new current directory"
   ]
  },
  {
   "cell_type": "code",
   "execution_count": null,
   "metadata": {},
   "outputs": [],
   "source": [
    "current_dir = os.getcwd()\n",
    "current_dir"
   ]
  },
  {
   "cell_type": "markdown",
   "metadata": {},
   "source": [
    "---"
   ]
  },
  {
   "cell_type": "markdown",
   "metadata": {},
   "source": [
    "## Load Data"
   ]
  },
  {
   "cell_type": "code",
   "execution_count": null,
   "metadata": {},
   "outputs": [],
   "source": [
    "import numpy as np\n",
    "import pandas as pd\n",
    "\n",
    "# Open dataset\n",
    "df = pd.read_csv(\"outputs/datasets/cleaned/FertilityTreatmentDataCleaned.csv.gz\")\n",
    "        \n",
    "print(df.shape)\n",
    "df.head(3)"
   ]
  },
  {
   "cell_type": "markdown",
   "metadata": {},
   "source": [
    "---"
   ]
  },
  {
   "cell_type": "markdown",
   "metadata": {},
   "source": [
    "## ML Pipeline with all data"
   ]
  },
  {
   "cell_type": "markdown",
   "metadata": {},
   "source": [
    "#### ML pipeline for Data Cleaning and Feature Engineering"
   ]
  },
  {
   "cell_type": "markdown",
   "metadata": {},
   "source": [
    "#### Pipeline"
   ]
  },
  {
   "cell_type": "code",
   "execution_count": null,
   "metadata": {},
   "outputs": [],
   "source": [
    "from sklearn.pipeline import Pipeline\n",
    "from feature_engine.selection import SmartCorrelatedSelection\n",
    "from feature_engine.encoding import OrdinalEncoder\n",
    "from src.custom_transformers import OrdinalEncoderWithCategories\n",
    "\n",
    "\n",
    "# Define the natural order for each feature\n",
    "categories = [\n",
    "    [\"18-34\", \"35-37\", \"38-39\", \"40-42\", \"43-44\", \"45-50\"],  # Patient age at treatment\n",
    "    [\"0\", \"1\", \"2\", \"3\", \"4\", \"5\", \">5\"],  # Total number of previous IVF cycles\n",
    "    [\"18-34\", \"35-37\", \"38-39\", \"40-42\", \"43-44\", \"45-50\"],  # Patient/Egg provider age\n",
    "    [\n",
    "        \"18-34\",\n",
    "        \"35-37\",\n",
    "        \"38-39\",\n",
    "        \"40-42\",\n",
    "        \"43-44\",\n",
    "        \"45-50\",\n",
    "        \"51-55\",\n",
    "        \"56-60\",\n",
    "        \">60\",\n",
    "    ],  # Partner/Sperm provider age\n",
    "    [\n",
    "        \"0\",\n",
    "        \"0 - frozen cycle\",\n",
    "        \"1-5\",\n",
    "        \"6-10\",\n",
    "        \"11-15\",\n",
    "        \"16-20\",\n",
    "        \"21-25\",\n",
    "        \"26-30\",\n",
    "        \"31-35\",\n",
    "        \"36-40\",\n",
    "        \">40\",\n",
    "    ],  # Fresh eggs collected\n",
    "    [\n",
    "        \"0\",\n",
    "        \"0 - frozen cycle\",\n",
    "        \"1-5\",\n",
    "        \"6-10\",\n",
    "        \"11-15\",\n",
    "        \"16-20\",\n",
    "        \"21-25\",\n",
    "        \"26-30\",\n",
    "        \"31-35\",\n",
    "        \"36-40\",\n",
    "        \">40\",\n",
    "    ],  # Total eggs mixed\n",
    "    [\n",
    "        \"0\",\n",
    "        \"0 - frozen cycle\",\n",
    "        \"1-5\",\n",
    "        \"6-10\",\n",
    "        \"11-15\",\n",
    "        \"16-20\",\n",
    "        \"21-25\",\n",
    "        \"26-30\",\n",
    "        \">30\",\n",
    "    ],  # Total embryos created\n",
    "    [\"0\", \"1\", \"1e\", \"2\", \"3\"],  # Embryos transferred\n",
    "    [\n",
    "        \"0 - fresh cycle\",\n",
    "        \"0 - frozen cycle\",\n",
    "        \"1-5\",\n",
    "        \"6-10\",\n",
    "        \">10\",\n",
    "    ],  # Total embryos thawed\n",
    "]\n",
    "\n",
    "# Define columns that need ordinal encoding\n",
    "ordinal_columns = [\n",
    "    \"Patient age at treatment\",\n",
    "    \"Total number of previous IVF cycles\",\n",
    "    \"Patient/Egg provider age\",\n",
    "    \"Partner/Sperm provider age\",\n",
    "    \"Fresh eggs collected\",\n",
    "    \"Total eggs mixed\",\n",
    "    \"Total embryos created\",\n",
    "    \"Embryos transferred\",\n",
    "    \"Total embryos thawed\",\n",
    "]\n",
    "\n",
    "\n",
    "def PreprocessingPipeline():\n",
    "    pipeline_base = Pipeline(\n",
    "        [\n",
    "            (\n",
    "                \"ordinal_encoding\",\n",
    "                OrdinalEncoderWithCategories(\n",
    "                    categories=categories, columns=ordinal_columns\n",
    "                ),\n",
    "            ),\n",
    "            (\n",
    "                \"ordinal_encoding_arbitrary\",\n",
    "                OrdinalEncoder(\n",
    "                    encoding_method ='arbitrary',\n",
    "                    variables=[\n",
    "                        \"Specific treatment type\",\n",
    "                        \"Egg source\",\n",
    "                        \"Sperm source\",\n",
    "                        \"Patient ethnicity\",\n",
    "                        \"Date of embryo transfer\",\n",
    "                    ],\n",
    "                ),\n",
    "            ),\n",
    "            (\n",
    "                \"smart_correlation\",\n",
    "                SmartCorrelatedSelection(\n",
    "                    method=\"spearman\",\n",
    "                    threshold=0.9,\n",
    "                ),\n",
    "            ),\n",
    "        ]\n",
    "    )\n",
    "\n",
    "    return pipeline_base\n",
    "\n",
    "\n",
    "PreprocessingPipeline()"
   ]
  },
  {
   "cell_type": "markdown",
   "metadata": {},
   "source": [
    "### ML Pipeline for Modelling and Hyperparameter Optimisation"
   ]
  },
  {
   "cell_type": "code",
   "execution_count": null,
   "metadata": {},
   "outputs": [],
   "source": [
    "# Feat Scaling\n",
    "from sklearn.preprocessing import StandardScaler\n",
    "\n",
    "# Feat Selection\n",
    "from sklearn.feature_selection import SelectFromModel\n",
    "\n",
    "# ML algorithms\n",
    "from sklearn.linear_model import LogisticRegression\n",
    "from sklearn.tree import DecisionTreeClassifier\n",
    "from sklearn.ensemble import (\n",
    "    RandomForestClassifier,\n",
    "    GradientBoostingClassifier,\n",
    "    ExtraTreesClassifier,\n",
    "    AdaBoostClassifier,\n",
    ")\n",
    "from xgboost import XGBClassifier\n",
    "\n",
    "\n",
    "def PipelineClf(model):\n",
    "    pipeline_base = Pipeline(\n",
    "        [\n",
    "            (\"scaler\", StandardScaler()),\n",
    "            (\"feat_selection\", SelectFromModel(model)),\n",
    "            (\"model\", model),\n",
    "        ]\n",
    "    )\n",
    "\n",
    "    return pipeline_base"
   ]
  },
  {
   "cell_type": "markdown",
   "metadata": {},
   "source": [
    "Custom Class for Hyperparameter Optimisation using GridSearchCV"
   ]
  },
  {
   "cell_type": "code",
   "execution_count": null,
   "metadata": {},
   "outputs": [],
   "source": [
    "from sklearn.model_selection import GridSearchCV\n",
    "\n",
    "\n",
    "class HyperparameterOptimizationSearch:\n",
    "    \n",
    "    def __init__(self, models, params):\n",
    "        # Initialize with dictionaries of models and their corresponding hyperparameters\n",
    "        self.models = models\n",
    "        self.params = params\n",
    "        # Store the keys (model names) for easy iteration\n",
    "        self.keys = models.keys()  \n",
    "        # Initialize an empty dictionary to store grid search results\n",
    "        self.grid_searches = {}    \n",
    "\n",
    "    def fit(self, X, y, cv, n_jobs=-1, verbose=1, scoring=None, refit=\"f1\"):\n",
    "        # Fit GridSearchCV for each model with provided data and parameters\n",
    "        \n",
    "        for key in self.keys:\n",
    "            # Inform about the model being processed and the number of parameter combinations\n",
    "            print(f\"\\nRunning GridSearchCV for {key} with {len(self.params[key])} parameter combinations.\\n\")\n",
    "\n",
    "            # Create a model pipeline (PipelineClf)\n",
    "            model = PipelineClf(self.models[key])\n",
    "            \n",
    "            # Retrieve the corresponding hyperparameters for the model\n",
    "            params = self.params[key]\n",
    "            \n",
    "            # Set up the GridSearchCV with the model, parameters, and specified settings\n",
    "            gs = GridSearchCV(\n",
    "                model,\n",
    "                params,\n",
    "                cv=cv,           # Cross-validation strategy\n",
    "                n_jobs=n_jobs,   # Number of parallel jobs (-1 means using all processors)\n",
    "                verbose=verbose, # Verbosity level\n",
    "                scoring=scoring, # Scoring metrics\n",
    "                refit=refit,     # Metric to refit the model on after grid search\n",
    "            )\n",
    "            \n",
    "            # Fit the model with the provided data (X and y)\n",
    "            gs.fit(X, y)\n",
    "            \n",
    "            # Store the result of the grid search in the dictionary under the model's name\n",
    "            self.grid_searches[key] = gs\n",
    "            \n",
    "    def score_summary(self, sort_by=\"f1\", scoring=None):\n",
    "        # Summarize and return the results of the grid search\n",
    "        \n",
    "        if scoring is None:\n",
    "            # Ensure a scoring dictionary is provided; otherwise, raise an error\n",
    "            raise ValueError(\"Scoring dictionary must be provided\")\n",
    "        \n",
    "        # List to store rows for the summary DataFrame\n",
    "        rows = []\n",
    "        \n",
    "        for k in self.grid_searches:\n",
    "            # For each model, retrieve the grid search results\n",
    "            \n",
    "            # Get the hyperparameter combinations tested\n",
    "            params = self.grid_searches[k].cv_results_[\"params\"]\n",
    "            \n",
    "            # Retrieve the mean test scores for each metric\n",
    "            mean_scores = {\n",
    "                metric: self.grid_searches[k].cv_results_[f\"mean_test_{metric}\"]\n",
    "                for metric in scoring.keys()\n",
    "            }\n",
    "            # For each parameter combination, create a dictionary of the results\n",
    "            for i in range(len(params)):\n",
    "                # Add model name and hyperparameters\n",
    "                row_data = {\"estimator\": k, **params[i]}\n",
    "                # Add mean scores for each metric (averaged across CV folds)\n",
    "                row_data.update({f\"mean_{metric}\": mean_scores[metric][i] for metric in mean_scores})\n",
    "                # Convert to a Pandas Series and add to the list\n",
    "                rows.append(pd.Series(row_data))\n",
    "        \n",
    "        # Convert the list of Series into a DataFrame and sort it by the specified metric\n",
    "        df = pd.DataFrame(rows).sort_values([f\"mean_{sort_by}\"], ascending=False)\n",
    "        \n",
    "        # Return the sorted DataFrame and the dictionary of grid search results\n",
    "        return df, self.grid_searches\n"
   ]
  },
  {
   "cell_type": "markdown",
   "metadata": {},
   "source": [
    "### Split Train and Test Set"
   ]
  },
  {
   "cell_type": "code",
   "execution_count": null,
   "metadata": {},
   "outputs": [],
   "source": [
    "from sklearn.model_selection import train_test_split\n",
    "\n",
    "# Define features (X) and target (y)\n",
    "X = df.drop(columns=[\"Live birth occurrence\"])  # Drop the target column from features\n",
    "y = df[\"Live birth occurrence\"]  # Define the target column\n",
    "\n",
    "# Split the dataset into training and testing sets\n",
    "X_train, X_test, y_train, y_test = train_test_split(\n",
    "    X,               # Only features\n",
    "    y,               # Target variable\n",
    "    test_size=0.2,   # 20% of the data for testing\n",
    "    random_state=0   # Random state for reproducibility\n",
    ")\n",
    "\n",
    "print(X_train.shape, X_test.shape, y_train.shape, y_test.shape)"
   ]
  },
  {
   "cell_type": "markdown",
   "metadata": {},
   "source": [
    "Apply the preprocessing pipeline"
   ]
  },
  {
   "cell_type": "code",
   "execution_count": null,
   "metadata": {},
   "outputs": [],
   "source": [
    "X_train.head(3)"
   ]
  },
  {
   "cell_type": "code",
   "execution_count": null,
   "metadata": {},
   "outputs": [],
   "source": [
    "pipeline_pre_processing = PreprocessingPipeline()\n",
    "X_train = pipeline_pre_processing.fit_transform(X_train)"
   ]
  },
  {
   "cell_type": "code",
   "execution_count": null,
   "metadata": {},
   "outputs": [],
   "source": [
    "X_train.columns"
   ]
  },
  {
   "cell_type": "code",
   "execution_count": null,
   "metadata": {},
   "outputs": [],
   "source": [
    "X_train.head(3)"
   ]
  },
  {
   "cell_type": "markdown",
   "metadata": {},
   "source": [
    "Apply the pipeline to the test set"
   ]
  },
  {
   "cell_type": "code",
   "execution_count": null,
   "metadata": {},
   "outputs": [],
   "source": [
    "X_test = pipeline_pre_processing.transform(X_test)"
   ]
  },
  {
   "cell_type": "code",
   "execution_count": null,
   "metadata": {},
   "outputs": [],
   "source": [
    "print(X_train.shape, y_train.shape, X_test.shape, y_test.shape)"
   ]
  },
  {
   "cell_type": "markdown",
   "metadata": {},
   "source": [
    "Check Train Set Target distribution"
   ]
  },
  {
   "cell_type": "code",
   "execution_count": null,
   "metadata": {},
   "outputs": [],
   "source": [
    "import matplotlib.pyplot as plt\n",
    "import seaborn as sns\n",
    "\n",
    "print(y_train.value_counts())\n",
    "\n",
    "sns.set_style(\"whitegrid\")\n",
    "y_train.value_counts().plot(kind=\"bar\", title=\"Train Set Target Distribution\")\n",
    "plt.show()"
   ]
  },
  {
   "cell_type": "markdown",
   "metadata": {},
   "source": [
    "## Handle Target Imbalance"
   ]
  },
  {
   "cell_type": "markdown",
   "metadata": {},
   "source": [
    "### Use RandomUnderSampler to balance Train Set target"
   ]
  },
  {
   "cell_type": "markdown",
   "metadata": {},
   "source": [
    "Various strategies were tested to address target imbalance in the dataset (for more details, prease refer to the [README file](https://github.com/pswhdev/ivf-predictor/blob/main/README.md)). Given the large dataset size and the comparable performance of oversampling (SMOTE) and undersampling (RandomUnderSampler), RandomUnderSampler was chosen to handle imbalance for the ensemble ML model."
   ]
  },
  {
   "cell_type": "code",
   "execution_count": null,
   "metadata": {},
   "outputs": [],
   "source": [
    "from imblearn.under_sampling import RandomUnderSampler\n",
    "\n",
    "undersample = RandomUnderSampler(sampling_strategy='majority', random_state=0)\n",
    "X_train, y_train = undersample.fit_resample(X_train, y_train)\n",
    "\n",
    "print(X_train.shape, y_train.shape, X_test.shape, y_test.shape)"
   ]
  },
  {
   "cell_type": "markdown",
   "metadata": {},
   "source": [
    "Check Train Set Target distribution after resampling"
   ]
  },
  {
   "cell_type": "code",
   "execution_count": null,
   "metadata": {},
   "outputs": [],
   "source": [
    "import matplotlib.pyplot as plt\n",
    "\n",
    "print(y_train.value_counts())\n",
    "\n",
    "y_train.value_counts().plot(kind='bar', title='Train Set Target Distribution')\n",
    "plt.show()"
   ]
  },
  {
   "cell_type": "markdown",
   "metadata": {},
   "source": [
    "## Grid Search CV - Sklearn"
   ]
  },
  {
   "cell_type": "markdown",
   "metadata": {},
   "source": [
    "### Use standard hyperparameters to find most suitable algorithm "
   ]
  },
  {
   "cell_type": "markdown",
   "metadata": {},
   "source": [
    "Set Up the Models and Parameters"
   ]
  },
  {
   "cell_type": "code",
   "execution_count": null,
   "metadata": {},
   "outputs": [],
   "source": [
    "models_quick_search = {\n",
    "    \"LogisticRegression\": LogisticRegression(random_state=0),\n",
    "    \"XGBClassifier\": XGBClassifier(random_state=0),\n",
    "    \"DecisionTreeClassifier\": DecisionTreeClassifier(random_state=0),\n",
    "    \"RandomForestClassifier\": RandomForestClassifier(random_state=0),\n",
    "    \"GradientBoostingClassifier\": GradientBoostingClassifier(random_state=0),\n",
    "    \"ExtraTreesClassifier\": ExtraTreesClassifier(random_state=0),\n",
    "    \"AdaBoostClassifier\": AdaBoostClassifier(random_state=0),\n",
    "}\n",
    "\n",
    "params_quick_search = {\n",
    "    \"LogisticRegression\": {},\n",
    "    \"XGBClassifier\": {},\n",
    "    \"DecisionTreeClassifier\": {},\n",
    "    \"RandomForestClassifier\": {},\n",
    "    \"GradientBoostingClassifier\": {},\n",
    "    \"ExtraTreesClassifier\": {},\n",
    "    \"AdaBoostClassifier\": {},\n",
    "}"
   ]
  },
  {
   "cell_type": "markdown",
   "metadata": {},
   "source": [
    "Define the custom scoring metrics"
   ]
  },
  {
   "cell_type": "code",
   "execution_count": null,
   "metadata": {},
   "outputs": [],
   "source": [
    "from sklearn.metrics import make_scorer, accuracy_score, recall_score, precision_score, f1_score, matthews_corrcoef, confusion_matrix\n",
    "\n",
    "def specificity_score(y_true, y_pred):\n",
    "    tn, fp, fn, tp = confusion_matrix(y_true, y_pred).ravel()\n",
    "    return tn / (tn + fp)\n",
    "\n",
    "def npv_score(y_true, y_pred):\n",
    "    tn, fp, fn, tp = confusion_matrix(y_true, y_pred).ravel()\n",
    "    return tn / (tn + fn)\n",
    "\n",
    "# Dictionary of all the metrics\n",
    "scoring = {\n",
    "    'accuracy': make_scorer(accuracy_score),\n",
    "    'recall': make_scorer(recall_score, pos_label=0),\n",
    "    'specificity': make_scorer(specificity_score),\n",
    "    'precision': make_scorer(precision_score, pos_label=1),\n",
    "    'npv': make_scorer(npv_score),\n",
    "    'mcc': make_scorer(matthews_corrcoef),\n",
    "    'f1': make_scorer(f1_score, pos_label=1)\n",
    "}"
   ]
  },
  {
   "cell_type": "markdown",
   "metadata": {},
   "source": [
    "Quick GridSearch CV - Binary Classifier"
   ]
  },
  {
   "cell_type": "code",
   "execution_count": null,
   "metadata": {},
   "outputs": [],
   "source": [
    "search = HyperparameterOptimizationSearch(models=models_quick_search, params=params_quick_search)\n",
    "\n",
    "search.fit(X_train, y_train, cv=5, n_jobs=-1, scoring=scoring, refit='f1')"
   ]
  },
  {
   "cell_type": "markdown",
   "metadata": {},
   "source": [
    "Check results"
   ]
  },
  {
   "cell_type": "code",
   "execution_count": null,
   "metadata": {},
   "outputs": [],
   "source": [
    "# Get the results and sort by the F1 score\n",
    "grid_search_summary, grid_search_pipelines = search.score_summary(sort_by='f1', scoring=scoring)\n",
    "grid_search_summary\n"
   ]
  },
  {
   "cell_type": "markdown",
   "metadata": {},
   "source": [
    "### Perform extensive search on the most suitable algorithm to find the best hyperparameter configuration using GridSearchCV"
   ]
  },
  {
   "cell_type": "markdown",
   "metadata": {},
   "source": [
    "Model and hyperparameters and for Extensive Search: Best model chosen was Greadient Boosting Classifier because it showed the highest mean_f1 and the hyperparameters were chosen to try to find the optimal settings to balance model performance and prevent overfitting. [Scikit-learn documentation](https://scikit-learn.org/stable/modules/generated/sklearn.ensemble.GradientBoostingClassifier.html) "
   ]
  },
  {
   "cell_type": "code",
   "execution_count": null,
   "metadata": {},
   "outputs": [],
   "source": [
    "models_search = {\n",
    "    'GradientBoostingClassifier': GradientBoostingClassifier (),\n",
    "}\n",
    "\n",
    "params_search = {\n",
    "    'GradientBoostingClassifier': {\n",
    "        'model__n_estimators': [100, 200, 300],\n",
    "        'model__learning_rate': [0.01, 0.05, 0.1],\n",
    "        'model__max_depth': [3, 4, 5],\n",
    "        'model__subsample': [0.8, 0.9, 1.0],\n",
    "        'model__min_samples_split': [2, 5, 10],\n",
    "        'model__max_features': [None, 'sqrt', 'log2']\n",
    "    }\n",
    "}"
   ]
  },
  {
   "cell_type": "markdown",
   "metadata": {},
   "source": [
    "Extensive GridSearch CV - Binary Classifier"
   ]
  },
  {
   "cell_type": "code",
   "execution_count": null,
   "metadata": {},
   "outputs": [],
   "source": [
    "print(y_train.value_counts())\n",
    "\n",
    "search = HyperparameterOptimizationSearch(models=models_search, params=params_search)\n",
    "search.fit(X_train, y_train, cv=5, n_jobs=-1, scoring=scoring, refit='f1')"
   ]
  },
  {
   "cell_type": "markdown",
   "metadata": {},
   "source": [
    "Check results"
   ]
  },
  {
   "cell_type": "code",
   "execution_count": null,
   "metadata": {},
   "outputs": [],
   "source": [
    "grid_search_summary, grid_search_pipelines = search.score_summary(sort_by='f1', scoring=scoring)\n",
    "grid_search_summary "
   ]
  },
  {
   "cell_type": "markdown",
   "metadata": {},
   "source": [
    "Get best model name programmatically"
   ]
  },
  {
   "cell_type": "code",
   "execution_count": null,
   "metadata": {},
   "outputs": [],
   "source": [
    "best_model = grid_search_summary.iloc[0,0]\n",
    "best_model"
   ]
  },
  {
   "cell_type": "markdown",
   "metadata": {},
   "source": [
    "Parameters for best model"
   ]
  },
  {
   "cell_type": "code",
   "execution_count": null,
   "metadata": {},
   "outputs": [],
   "source": [
    "best_parameters = grid_search_pipelines[best_model].best_params_\n",
    "best_parameters"
   ]
  },
  {
   "cell_type": "markdown",
   "metadata": {},
   "source": [
    "Define the best clf pipeline"
   ]
  },
  {
   "cell_type": "code",
   "execution_count": null,
   "metadata": {},
   "outputs": [],
   "source": [
    "pipeline_clf = grid_search_pipelines[best_model].best_estimator_\n",
    "pipeline_clf"
   ]
  },
  {
   "cell_type": "markdown",
   "metadata": {},
   "source": [
    "## Assess feature importance"
   ]
  },
  {
   "cell_type": "code",
   "execution_count": null,
   "metadata": {},
   "outputs": [],
   "source": [
    "X_train.head(3)"
   ]
  },
  {
   "cell_type": "markdown",
   "metadata": {},
   "source": [
    "Assess feature importance on the current model with `.features_importances_`"
   ]
  },
  {
   "cell_type": "code",
   "execution_count": null,
   "metadata": {},
   "outputs": [],
   "source": [
    "# create DataFrame to display feature importance\n",
    "df_feature_importance = pd.DataFrame(\n",
    "    data={\n",
    "        \"Feature\": X_train.columns[pipeline_clf[\"feat_selection\"].get_support()],\n",
    "        \"Importance\": pipeline_clf[\"model\"].feature_importances_,\n",
    "    }\n",
    ").sort_values(by=\"Importance\", ascending=False)\n",
    "\n",
    "# re-assign best_features order\n",
    "best_features = df_feature_importance[\"Feature\"].to_list()\n",
    "\n",
    "# Most important features statement and plot\n",
    "print(\n",
    "    f\"* These are the {len(best_features)} most important features in descending order. \"\n",
    "    f\"The model was trained on them: \\n{df_feature_importance['Feature'].to_list()}\"\n",
    ")\n",
    "\n",
    "df_feature_importance.plot(kind=\"bar\", x=\"Feature\", y=\"Importance\")\n",
    "plt.show()"
   ]
  },
  {
   "cell_type": "markdown",
   "metadata": {},
   "source": [
    "## Evaluate Pipeline on Train and Test Sets"
   ]
  },
  {
   "cell_type": "code",
   "execution_count": null,
   "metadata": {},
   "outputs": [],
   "source": [
    "from sklearn.metrics import classification_report, confusion_matrix, f1_score\n",
    "import pandas as pd\n",
    "\n",
    "def confusion_matrix_and_report(X, y, pipeline, label_map):\n",
    "    # Make predictions using the pipeline\n",
    "    prediction = pipeline.predict(X)\n",
    "\n",
    "    print(\"---  Confusion Matrix  ---\")\n",
    "    print(\n",
    "        pd.DataFrame(\n",
    "            confusion_matrix(y_true=y, y_pred=prediction),\n",
    "            columns=[\"Actual \" + label for label in label_map],\n",
    "            index=[\"Prediction \" + label for label in label_map]\n",
    "        )\n",
    "    )\n",
    "    print(\"\\n\")\n",
    "\n",
    "    # Print classification report\n",
    "    print(\"---  Classification Report  ---\")\n",
    "    print(classification_report(y, prediction, target_names=label_map), \"\\n\")\n",
    "\n",
    "    # Calculate F1 scores\n",
    "    f1_scores = f1_score(y, prediction, average=None)\n",
    "    mean_f1_score = f1_scores.mean()\n",
    "    \n",
    "    # Print F1 scores with two decimal places\n",
    "    f1_scores_rounded = {label: round(score, 2) for label, score in zip(label_map, f1_scores)}\n",
    "    mean_f1_score_rounded = round(mean_f1_score, 2)\n",
    "    \n",
    "    print(f\"F1 Score for each class: {f1_scores_rounded}\")\n",
    "    print(f\"Mean F1 Score: {mean_f1_score_rounded}\\n\")\n",
    "    \n",
    "\n",
    "def clf_performance(X_train, y_train, X_test, y_test, pipeline, label_map):\n",
    "    # Evaluate performance on the training set\n",
    "    print(\"#### Train Set #### \\n\")\n",
    "    confusion_matrix_and_report(X_train, y_train, pipeline, label_map)\n",
    "\n",
    "    # Evaluate performance on the test set\n",
    "    print(\"#### Test Set ####\\n\")\n",
    "    confusion_matrix_and_report(X_test, y_test, pipeline, label_map)\n"
   ]
  },
  {
   "cell_type": "markdown",
   "metadata": {},
   "source": [
    "Evaluation:"
   ]
  },
  {
   "cell_type": "code",
   "execution_count": null,
   "metadata": {},
   "outputs": [],
   "source": [
    "clf_performance(X_train=X_train, y_train=y_train,\n",
    "                X_test=X_test, y_test=y_test,\n",
    "                pipeline=pipeline_clf,\n",
    "                label_map= ['No Success', 'Success'] \n",
    "                )"
   ]
  },
  {
   "cell_type": "markdown",
   "metadata": {},
   "source": [
    "---"
   ]
  },
  {
   "cell_type": "markdown",
   "metadata": {},
   "source": [
    "## Refit pipeline with best features"
   ]
  },
  {
   "cell_type": "markdown",
   "metadata": {},
   "source": [
    "### Refit ML Pipeline and Resampling"
   ]
  },
  {
   "cell_type": "markdown",
   "metadata": {},
   "source": [
    "### Rewrite ML pipeline for Data Cleaning and Feature Engineering"
   ]
  },
  {
   "cell_type": "code",
   "execution_count": null,
   "metadata": {},
   "outputs": [],
   "source": [
    "best_features "
   ]
  },
  {
   "cell_type": "markdown",
   "metadata": {},
   "source": [
    "#### Reassign best features names"
   ]
  },
  {
   "cell_type": "markdown",
   "metadata": {},
   "source": [
    "One hot encoding create new columns and appends the value after the name as `_<value>`.\n",
    "Therefore it is necessary to rename the features to the original name, so when the pipeline is excecuted, it will find the correct columns on the dataframe."
   ]
  },
  {
   "cell_type": "markdown",
   "metadata": {},
   "source": [
    "### Split Train Test Set"
   ]
  },
  {
   "cell_type": "code",
   "execution_count": null,
   "metadata": {},
   "outputs": [],
   "source": [
    "from sklearn.model_selection import train_test_split\n",
    "X_train, X_test, y_train, y_test = train_test_split(\n",
    "    df.drop(['Live birth occurrence'], axis=1),\n",
    "    df['Live birth occurrence'],\n",
    "    test_size=0.2,\n",
    "    random_state=0,\n",
    ")\n",
    "\n",
    "print(X_train.shape, y_train.shape, X_test.shape, y_test.shape)"
   ]
  },
  {
   "cell_type": "markdown",
   "metadata": {},
   "source": [
    "New Pipeline for Feature Engineering considering only the best features and without Smart Correlation (manually entered)."
   ]
  },
  {
   "cell_type": "code",
   "execution_count": null,
   "metadata": {},
   "outputs": [],
   "source": [
    "from sklearn.pipeline import Pipeline\n",
    "from feature_engine.encoding import OrdinalEncoder\n",
    "from src.custom_transformers import OrdinalEncoderWithCategories\n",
    "\n",
    "\n",
    "# Define the correct order for each feature\n",
    "categories = [\n",
    "    [\"18-34\", \"35-37\", \"38-39\", \"40-42\", \"43-44\", \"45-50\"],  # Patient/Egg provider age\n",
    "    [\n",
    "        \"0\",\n",
    "        \"0 - frozen cycle\",\n",
    "        \"1-5\",\n",
    "        \"6-10\",\n",
    "        \"11-15\",\n",
    "        \"16-20\",\n",
    "        \"21-25\",\n",
    "        \"26-30\",\n",
    "        \">30\",\n",
    "    ],  # Total embryos created\n",
    "    [\"0\", \"1\", \"1e\", \"2\", \"3\"],  # Embryos transferred\n",
    "]\n",
    "\n",
    "# Define columns that need ordinal encoding\n",
    "ordinal_columns = [\n",
    "    \"Patient/Egg provider age\",\n",
    "    \"Total embryos created\",\n",
    "    \"Embryos transferred\",\n",
    "\n",
    "]\n",
    "\n",
    "\n",
    "def PreprocessingPipeline():\n",
    "    pipeline_base = Pipeline(\n",
    "        [\n",
    "            (\n",
    "                \"ordinal_encoding\",\n",
    "                OrdinalEncoderWithCategories(\n",
    "                    categories=categories, columns=ordinal_columns\n",
    "                ),\n",
    "            ),\n",
    "            (\n",
    "                \"ordinal_encoding_arbitrary\",\n",
    "                OrdinalEncoder(\n",
    "                    encoding_method ='arbitrary',\n",
    "                    variables=[\n",
    "                        \"Date of embryo transfer\",\n",
    "                    ],\n",
    "                ),\n",
    "            ),\n",
    "            # No need for smart correlation, since best features are already selected\n",
    "        ]\n",
    "    )\n",
    "\n",
    "    return pipeline_base\n",
    "\n",
    "\n",
    "pipeline_pre_processing = PreprocessingPipeline()\n",
    "pipeline_pre_processing"
   ]
  },
  {
   "cell_type": "markdown",
   "metadata": {},
   "source": [
    "### Rewrite ML Pipeline for Modelling"
   ]
  },
  {
   "cell_type": "markdown",
   "metadata": {},
   "source": [
    "Function for Pipeline optmisation"
   ]
  },
  {
   "cell_type": "code",
   "execution_count": null,
   "metadata": {},
   "outputs": [],
   "source": [
    "# Pipeline Optmization: Model\n",
    "def PipelineClf(model):\n",
    "    pipeline_base = Pipeline([\n",
    "        (\"scaler\", StandardScaler()),\n",
    "        # no feature selection needed anymore since it is already known which features to use\n",
    "        (\"model\", model),\n",
    "    ])\n",
    "\n",
    "    return pipeline_base"
   ]
  },
  {
   "cell_type": "markdown",
   "metadata": {},
   "source": [
    "Filter only the most important variables"
   ]
  },
  {
   "cell_type": "code",
   "execution_count": null,
   "metadata": {},
   "outputs": [],
   "source": [
    "X_train = X_train.filter(best_features)\n",
    "X_test = X_test.filter(best_features)"
   ]
  },
  {
   "cell_type": "code",
   "execution_count": null,
   "metadata": {},
   "outputs": [],
   "source": [
    "# Apply the prerpocessing pipeline\n",
    "X_train = pipeline_pre_processing.fit_transform(X_train)\n",
    "\n",
    "print(X_train.shape, y_train.shape, X_test.shape, y_test.shape)\n",
    "X_train.head(3)"
   ]
  },
  {
   "cell_type": "markdown",
   "metadata": {},
   "source": [
    "Apply the data cleaning and feature engineering pipeline"
   ]
  },
  {
   "cell_type": "markdown",
   "metadata": {},
   "source": [
    "Apply the pipeline to the test set"
   ]
  },
  {
   "cell_type": "code",
   "execution_count": null,
   "metadata": {},
   "outputs": [],
   "source": [
    "X_test = pipeline_pre_processing.transform(X_test)"
   ]
  },
  {
   "cell_type": "markdown",
   "metadata": {},
   "source": [
    "Check Train Set Target distribution"
   ]
  },
  {
   "cell_type": "code",
   "execution_count": null,
   "metadata": {},
   "outputs": [],
   "source": [
    "import matplotlib.pyplot as plt\n",
    "import seaborn as sns\n",
    "\n",
    "print(y_train.value_counts())\n",
    "\n",
    "sns.set_style(\"whitegrid\")\n",
    "y_train.value_counts().plot(kind=\"bar\", title=\"Train Set Target Distribution\")\n",
    "plt.show()"
   ]
  },
  {
   "cell_type": "markdown",
   "metadata": {},
   "source": [
    "### Handle Target Imbalance"
   ]
  },
  {
   "cell_type": "markdown",
   "metadata": {},
   "source": [
    "Rebalance Train Set target"
   ]
  },
  {
   "cell_type": "code",
   "execution_count": null,
   "metadata": {},
   "outputs": [],
   "source": [
    "print(\"Data types of transformed X_train:\")\n",
    "print(X_train.dtypes)\n",
    "print(X_train.head(3))"
   ]
  },
  {
   "cell_type": "code",
   "execution_count": null,
   "metadata": {},
   "outputs": [],
   "source": [
    "from imblearn.under_sampling import RandomUnderSampler\n",
    "\n",
    "undersample = RandomUnderSampler(sampling_strategy='majority', random_state=0)\n",
    "X_train, y_train = undersample.fit_resample(X_train, y_train)\n",
    "\n",
    "print(X_train.shape, y_train.shape, X_test.shape, y_test.shape)"
   ]
  },
  {
   "cell_type": "markdown",
   "metadata": {},
   "source": [
    "Check Train Set Target distribution after rebalance"
   ]
  },
  {
   "cell_type": "code",
   "execution_count": null,
   "metadata": {},
   "outputs": [],
   "source": [
    "y_train.value_counts().plot(kind='bar',title='Train Set Target Distribution')\n",
    "plt.show()"
   ]
  },
  {
   "cell_type": "markdown",
   "metadata": {},
   "source": [
    "### Grid Search CV: Sklearn"
   ]
  },
  {
   "cell_type": "markdown",
   "metadata": {},
   "source": [
    "Using the most suitable model from the last section and its best hyperparameter configuration."
   ]
  },
  {
   "cell_type": "markdown",
   "metadata": {},
   "source": [
    "We are using the same model from  the last GridCV search"
   ]
  },
  {
   "cell_type": "code",
   "execution_count": null,
   "metadata": {},
   "outputs": [],
   "source": [
    "models_search "
   ]
  },
  {
   "cell_type": "markdown",
   "metadata": {},
   "source": [
    "And the best parameters from the last GridCV search "
   ]
  },
  {
   "cell_type": "code",
   "execution_count": null,
   "metadata": {},
   "outputs": [],
   "source": [
    "best_parameters"
   ]
  },
  {
   "cell_type": "markdown",
   "metadata": {},
   "source": [
    "Manually type in the hyperparameter values have to be a list."
   ]
  },
  {
   "cell_type": "code",
   "execution_count": null,
   "metadata": {},
   "outputs": [],
   "source": [
    "params_search = {\n",
    "    'GradientBoostingClassifier': {\n",
    "        'model__learning_rate': [0.01],\n",
    "        'model__max_depth': [3],\n",
    "        'model__max_features': [None],\n",
    "        'model__min_samples_split': [5],\n",
    "        'model__n_estimators': [100],\n",
    "        'model__subsample': [0.8],\n",
    "    }\n",
    "}\n",
    "params_search"
   ]
  },
  {
   "cell_type": "markdown",
   "metadata": {},
   "source": [
    "GridSearch CV"
   ]
  },
  {
   "cell_type": "code",
   "execution_count": null,
   "metadata": {},
   "outputs": [],
   "source": [
    "search = HyperparameterOptimizationSearch(models=models_search, params=params_search)\n",
    "search.fit(X_train, y_train, cv=5, n_jobs=-1, scoring=scoring, refit=\"f1\")"
   ]
  },
  {
   "cell_type": "markdown",
   "metadata": {},
   "source": [
    "Check results"
   ]
  },
  {
   "cell_type": "code",
   "execution_count": null,
   "metadata": {},
   "outputs": [],
   "source": [
    "grid_search_summary, grid_search_pipelines = search.score_summary(sort_by='f1', scoring=scoring)\n",
    "grid_search_summary"
   ]
  },
  {
   "cell_type": "markdown",
   "metadata": {},
   "source": [
    "Define the best clf pipeline"
   ]
  },
  {
   "cell_type": "code",
   "execution_count": null,
   "metadata": {},
   "outputs": [],
   "source": [
    "best_model = grid_search_summary.iloc[0, 0]\n",
    "pipeline_clf = grid_search_pipelines[best_model].best_estimator_\n",
    "pipeline_clf"
   ]
  },
  {
   "cell_type": "markdown",
   "metadata": {},
   "source": [
    "### Assess feature importance"
   ]
  },
  {
   "cell_type": "code",
   "execution_count": null,
   "metadata": {},
   "outputs": [],
   "source": [
    "import pandas as pd\n",
    "import matplotlib.pyplot as plt\n",
    "import re\n",
    "\n",
    "# Sample data for feature importances\n",
    "new_best_features = X_train.columns\n",
    "df_feature_importance = pd.DataFrame({\n",
    "    'Feature': new_best_features,\n",
    "    'Importance': pipeline_clf['model'].feature_importances_\n",
    "}).sort_values(by='Importance', ascending=False)\n",
    "\n",
    "# Function to reassign features to their original names\n",
    "def reassign_best_features(features):\n",
    "    # Remove one-hot encoded suffixes and return the base names\n",
    "    reassigned_best_features = [re.sub(r'_[^_]+$', '', feature) for feature in features]\n",
    "    return reassigned_best_features\n",
    "\n",
    "# Apply the reassignment to create a new list of base feature names\n",
    "df_feature_importance['BaseFeature'] = reassign_best_features(df_feature_importance['Feature'])\n",
    "\n",
    "# Group by the original base feature names and sum the importances\n",
    "aggregated_importances = df_feature_importance.groupby('BaseFeature')['Importance'].sum().reset_index()\n",
    "\n",
    "# Sort the aggregated feature importances in descending order\n",
    "aggregated_importances = aggregated_importances.sort_values(by='Importance', ascending=False)\n",
    "\n",
    "# Print most important features\n",
    "print(f\"* These are the {len(aggregated_importances)} most important features in descending order. \"\n",
    "      f\"The model was trained on them: \\n{aggregated_importances['BaseFeature'].to_list()}\")\n",
    "\n",
    "# Plot the aggregated feature importances\n",
    "aggregated_importances.plot(kind='bar', x='BaseFeature', y='Importance')\n",
    "plt.title('Aggregated Feature Importances')\n",
    "plt.xlabel('Features')\n",
    "plt.ylabel('Importance')\n",
    "plt.show()\n"
   ]
  },
  {
   "cell_type": "markdown",
   "metadata": {},
   "source": [
    "### Evaluate Pipeline on Train and Test Sets"
   ]
  },
  {
   "cell_type": "markdown",
   "metadata": {},
   "source": [
    "Evaluation: We cross-check with metrics defined in the ML business case.\n",
    "* 70% Recall for No Success, on train and test set.\n",
    "* 70% Precision for Success on train and test set. "
   ]
  },
  {
   "cell_type": "code",
   "execution_count": null,
   "metadata": {},
   "outputs": [],
   "source": [
    "clf_performance(X_train=X_train, y_train=y_train,\n",
    "                X_test=X_test, y_test=y_test,\n",
    "                pipeline=pipeline_clf,\n",
    "                label_map= ['No Success', 'Success'] \n",
    "                )"
   ]
  },
  {
   "cell_type": "markdown",
   "metadata": {},
   "source": [
    "## Push files to Repo"
   ]
  },
  {
   "cell_type": "markdown",
   "metadata": {},
   "source": [
    "Generate the following files\n",
    "* Train set\n",
    "* Test set\n",
    "* Data cleaning and Feature Engineering pipeline\n",
    "* Modeling pipeline\n",
    "* features importance plot"
   ]
  },
  {
   "cell_type": "code",
   "execution_count": null,
   "metadata": {},
   "outputs": [],
   "source": [
    "import joblib\n",
    "import os\n",
    "\n",
    "version = 'v1'\n",
    "file_path = f'outputs/ml_pipeline/ivf_success_predictor/{version}'\n",
    "\n",
    "try:\n",
    "    # Check if the directories exist\n",
    "    if os.path.exists(file_path):\n",
    "        print('Old version is already available. Please create a new version.')\n",
    "    else:\n",
    "        # Create the directory if it does not exist\n",
    "        os.makedirs(name=file_path)\n",
    "        print(f\"Directory {file_path} created successfully.\")\n",
    "except Exception as e:\n",
    "    print(f\"An error occurred: {e}\")"
   ]
  },
  {
   "cell_type": "markdown",
   "metadata": {},
   "source": [
    "### Train Set"
   ]
  },
  {
   "cell_type": "markdown",
   "metadata": {},
   "source": [
    "* note that the variables **are transformed already** in X_train after imbalance handling was applied."
   ]
  },
  {
   "cell_type": "code",
   "execution_count": null,
   "metadata": {},
   "outputs": [],
   "source": [
    "print(X_train.shape)\n",
    "X_train.head()"
   ]
  },
  {
   "cell_type": "code",
   "execution_count": null,
   "metadata": {},
   "outputs": [],
   "source": [
    "X_train.to_csv(f\"{file_path}/X_train.csv.gz\", index=False, compression='gzip')"
   ]
  },
  {
   "cell_type": "code",
   "execution_count": null,
   "metadata": {},
   "outputs": [],
   "source": [
    "y_train"
   ]
  },
  {
   "cell_type": "code",
   "execution_count": null,
   "metadata": {},
   "outputs": [],
   "source": [
    "y_train.to_csv(f\"{file_path}/y_train.csv.gz\", index=False, compression='gzip')"
   ]
  },
  {
   "cell_type": "markdown",
   "metadata": {},
   "source": [
    "### Test Set"
   ]
  },
  {
   "cell_type": "markdown",
   "metadata": {},
   "source": [
    "* note that the variables are transformed already in X_test"
   ]
  },
  {
   "cell_type": "code",
   "execution_count": null,
   "metadata": {},
   "outputs": [],
   "source": [
    "print(X_test.shape)\n",
    "X_test.head()"
   ]
  },
  {
   "cell_type": "code",
   "execution_count": null,
   "metadata": {},
   "outputs": [],
   "source": [
    "X_test.to_csv(f\"{file_path}/X_test.csv.gz\", index=False, compression='gzip')"
   ]
  },
  {
   "cell_type": "code",
   "execution_count": null,
   "metadata": {},
   "outputs": [],
   "source": [
    "y_test"
   ]
  },
  {
   "cell_type": "code",
   "execution_count": null,
   "metadata": {},
   "outputs": [],
   "source": [
    "y_test.to_csv(f\"{file_path}/y_test.csv.gz\", index=False, compression='gzip')"
   ]
  },
  {
   "cell_type": "markdown",
   "metadata": {},
   "source": [
    "#### Save Best features (to be used for generating the widgets on the live predition page)"
   ]
  },
  {
   "cell_type": "code",
   "execution_count": null,
   "metadata": {},
   "outputs": [],
   "source": [
    "best_features"
   ]
  },
  {
   "cell_type": "code",
   "execution_count": null,
   "metadata": {},
   "outputs": [],
   "source": [
    "# Create a DataFrame\n",
    "best_features_df = pd.DataFrame(best_features, columns=['feature']) \n",
    "\n",
    "best_features_df = best_features_df.drop_duplicates()\n",
    "\n",
    "best_features_df.to_csv(f'{file_path}/best_features.csv.gz', index=False, compression='gzip')\n"
   ]
  },
  {
   "cell_type": "markdown",
   "metadata": {},
   "source": [
    "### ML Pipelines: Data Cleaning and Feat Eng pipeline and Modelling Pipeline"
   ]
  },
  {
   "cell_type": "markdown",
   "metadata": {},
   "source": [
    "Both pipelines should be used in conjunction to predict Live Data.\n",
    "\n",
    "* To predict on Train Set, Test Set we use only pipeline_clf, since the data is already processed."
   ]
  },
  {
   "cell_type": "markdown",
   "metadata": {},
   "source": [
    "Pipeline responsible for Data Cleaning and Feature Engineering."
   ]
  },
  {
   "cell_type": "code",
   "execution_count": null,
   "metadata": {},
   "outputs": [],
   "source": [
    "pipeline_pre_processing"
   ]
  },
  {
   "cell_type": "code",
   "execution_count": null,
   "metadata": {},
   "outputs": [],
   "source": [
    "import joblib\n",
    "import gzip\n",
    "\n",
    "with gzip.open(f\"{file_path}/clf_pipeline_pre_processing.pkl.gz\", 'wb') as f_out:\n",
    "    joblib.dump(pipeline_pre_processing, f_out)"
   ]
  },
  {
   "cell_type": "markdown",
   "metadata": {},
   "source": [
    "  Pipeline responsible for Feature Scaling, and Model"
   ]
  },
  {
   "cell_type": "code",
   "execution_count": null,
   "metadata": {},
   "outputs": [],
   "source": [
    "pipeline_clf"
   ]
  },
  {
   "cell_type": "markdown",
   "metadata": {},
   "source": [
    "### Save the model as pkl compressed"
   ]
  },
  {
   "cell_type": "code",
   "execution_count": null,
   "metadata": {},
   "outputs": [],
   "source": [
    "import joblib\n",
    "import gzip\n",
    "\n",
    "# Save the model directly into a compressed gzip file\n",
    "with gzip.open(f\"{file_path}/clf_pipeline_model.pkl.gz\", 'wb') as f_out:\n",
    "    joblib.dump(pipeline_clf, f_out)"
   ]
  },
  {
   "cell_type": "markdown",
   "metadata": {},
   "source": [
    "### Feature Importance plot"
   ]
  },
  {
   "cell_type": "code",
   "execution_count": null,
   "metadata": {},
   "outputs": [],
   "source": [
    "aggregated_importances.plot(kind='bar', x='BaseFeature', y='Importance')\n",
    "plt.title('Feature Importances')\n",
    "plt.xlabel('Features')\n",
    "plt.ylabel('Importance')\n",
    "plt.show()\n"
   ]
  },
  {
   "cell_type": "code",
   "execution_count": null,
   "metadata": {},
   "outputs": [],
   "source": [
    "aggregated_importances.plot(kind='bar', x='BaseFeature', y='Importance')\n",
    "plt.title('Feature Importances')\n",
    "plt.xlabel('Features')\n",
    "plt.ylabel('Importance')\n",
    "plt.savefig(f'{file_path}/features_importance.png', bbox_inches='tight')"
   ]
  },
  {
   "cell_type": "markdown",
   "metadata": {},
   "source": [
    "---"
   ]
  }
 ],
 "metadata": {
  "kernelspec": {
   "display_name": "venv",
   "language": "python",
   "name": "python3"
  },
  "language_info": {
   "codemirror_mode": {
    "name": "ipython",
    "version": 3
   },
   "file_extension": ".py",
   "mimetype": "text/x-python",
   "name": "python",
   "nbconvert_exporter": "python",
   "pygments_lexer": "ipython3",
   "version": "3.11.9"
  }
 },
 "nbformat": 4,
 "nbformat_minor": 2
}
